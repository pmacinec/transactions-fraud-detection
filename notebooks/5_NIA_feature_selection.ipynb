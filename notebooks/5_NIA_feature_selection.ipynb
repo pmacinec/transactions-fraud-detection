{
 "cells": [
  {
   "cell_type": "markdown",
   "metadata": {},
   "source": [
    "# Transactions Fraud Detection\n",
    "\n",
    "**Authors:** [Peter Macinec](https://github.com/pmacinec), [Timotej Zatko](https://github.com/timzatko)"
   ]
  },
  {
   "cell_type": "markdown",
   "metadata": {},
   "source": [
    "## Nature Inspired Algorithms for Feature Selection\n",
    "\n",
    "- all used on DT, compared with baseline \n",
    "\n",
    "We will train the model with selected features on the whole dataset."
   ]
  },
  {
   "cell_type": "code",
   "execution_count": 1,
   "metadata": {},
   "outputs": [],
   "source": [
    "%load_ext autoreload\n",
    "%autoreload 2"
   ]
  },
  {
   "cell_type": "code",
   "execution_count": 2,
   "metadata": {},
   "outputs": [],
   "source": [
    "import sys\n",
    "sys.path.append('..')\n",
    "\n",
    "from sklearn.model_selection import train_test_split\n",
    "from sklearn.metrics import roc_auc_score\n",
    "from sklearn.tree import DecisionTreeClassifier\n",
    "\n",
    "from NiaPy.task import StoppingTask, OptimizationType\n",
    "from NiaPy.algorithms.basic import GreyWolfOptimizer, FireflyAlgorithm, GeneticAlgorithm, \\\n",
    "    BatAlgorithm, ParticleSwarmOptimization\n",
    "\n",
    "from src.algorithms.grey_wolf_optimizer_multiprocessing import GreyWolfOptimizerMultiprocessing\n",
    "\n",
    "from src.dataset import load_processed_data\n",
    "from src.data_balancing import random_undersample\n",
    "from src.evaluation import custom_classification_report\n",
    "\n",
    "from src.classification_benchmark import ClassificationBenchmark"
   ]
  },
  {
   "cell_type": "markdown",
   "metadata": {},
   "source": [
    "### Load the data"
   ]
  },
  {
   "cell_type": "code",
   "execution_count": 3,
   "metadata": {},
   "outputs": [
    {
     "name": "stdout",
     "output_type": "stream",
     "text": [
      "Number of records:\n",
      "  x_train - 472432\n",
      "  y_train - 472432\n",
      "  x_test - 118108\n",
      "  y_test - 118108\n"
     ]
    }
   ],
   "source": [
    "x_train, y_train, x_test, y_test = load_processed_data()"
   ]
  },
  {
   "cell_type": "code",
   "execution_count": 4,
   "metadata": {},
   "outputs": [
    {
     "data": {
      "text/plain": [
       "(32842, 32842)"
      ]
     },
     "execution_count": 4,
     "metadata": {},
     "output_type": "execute_result"
    }
   ],
   "source": [
    "x_train, y_train = random_undersample(x_train, y_train)\n",
    "len(x_train), len(y_train)"
   ]
  },
  {
   "cell_type": "markdown",
   "metadata": {},
   "source": [
    "### Setup classification benchmark"
   ]
  },
  {
   "cell_type": "code",
   "execution_count": 5,
   "metadata": {},
   "outputs": [],
   "source": [
    "def model_fn():\n",
    "    return DecisionTreeClassifier(random_state=42)"
   ]
  },
  {
   "cell_type": "code",
   "execution_count": 6,
   "metadata": {},
   "outputs": [],
   "source": [
    "columns_count = len(x_train.columns)\n",
    "\n",
    "_x_train, _x_val, _y_train, _y_val = train_test_split(x_train, y_train, test_size=0.2, random_state=42)\n",
    "\n",
    "benchmark = ClassificationBenchmark(\n",
    "    model_fn,\n",
    "    roc_auc_score,\n",
    "    _x_train,\n",
    "    _y_train,\n",
    "    _x_val,\n",
    "    _y_val\n",
    ")"
   ]
  },
  {
   "cell_type": "code",
   "execution_count": 7,
   "metadata": {},
   "outputs": [],
   "source": [
    "def optimize(benchmark, algorithm, nGEN, num_runs = 5):\n",
    "    \"\"\"\n",
    "    Optimize task with provided algorithm.\n",
    "    \n",
    "    :param benchmark: NiaPy.Benchmark to optimize.\n",
    "    :param algorithm: algorithm object to use for optimization task.\n",
    "    :param nGEN: number of generations.\n",
    "    :param num_runs: number of algorithm runs (defaults to 5).\n",
    "    \"\"\"\n",
    "    best_columns = None\n",
    "    best_score = 0\n",
    "    \n",
    "    for i in range(num_runs):\n",
    "        # when using OptimizationType.MAXIMIZATION, the library will fail\n",
    "        # we use OptimizationType.MINIMIZATION instead and invert the score\n",
    "        task = StoppingTask(\n",
    "            D=benchmark.get_length(),\n",
    "            nGEN=nGEN,\n",
    "            optType=OptimizationType.MINIMIZATION,\n",
    "            benchmark=benchmark\n",
    "        )\n",
    "        \n",
    "        solution_vec, score = algorithm.run(task=task)    \n",
    "        \n",
    "        # invert the score\n",
    "        score = 1 - score\n",
    "        columns = benchmark.select_columns(solution_vec)\n",
    "        \n",
    "        print('--------------')\n",
    "        print(f'Run {i + 1}')\n",
    "        print('--------------')\n",
    "        print(f'Score: {score}')\n",
    "        print(f'Number of features selected: {len(columns)}\\n')\n",
    "        print('\\n')\n",
    "        \n",
    "        if score > best_score:\n",
    "            best_score = score\n",
    "            best_columns = columns\n",
    "\n",
    "    print(f'\\nBest score of {num_runs} runs: {best_score}')\n",
    "    print(f'Number of features selected: {len(best_columns)}')\n",
    "            \n",
    "    return best_columns"
   ]
  },
  {
   "cell_type": "markdown",
   "metadata": {},
   "source": [
    "### Grey Wolf Optimization (GWO)"
   ]
  },
  {
   "cell_type": "markdown",
   "metadata": {},
   "source": [
    "Find the optimal combination of columns."
   ]
  },
  {
   "cell_type": "code",
   "execution_count": 8,
   "metadata": {},
   "outputs": [
    {
     "name": "stdout",
     "output_type": "stream",
     "text": [
      "--------------\n",
      "Run 1\n",
      "--------------\n",
      "Score: 0.7921881236525397\n",
      "Number of features selected: 130\n",
      "\n",
      "\n",
      "\n",
      "--------------\n",
      "Run 2\n",
      "--------------\n",
      "Score: 0.7890883618738991\n",
      "Number of features selected: 117\n",
      "\n",
      "\n",
      "\n",
      "--------------\n",
      "Run 3\n",
      "--------------\n",
      "Score: 0.7909730908535166\n",
      "Number of features selected: 125\n",
      "\n",
      "\n",
      "\n",
      "--------------\n",
      "Run 4\n",
      "--------------\n",
      "Score: 0.7915789379971601\n",
      "Number of features selected: 126\n",
      "\n",
      "\n",
      "\n",
      "--------------\n",
      "Run 5\n",
      "--------------\n",
      "Score: 0.7875847796508064\n",
      "Number of features selected: 122\n",
      "\n",
      "\n",
      "\n",
      "\n",
      "Best score of 5 runs: 0.7921881236525397\n",
      "Number of features selected: 130\n",
      "CPU times: user 12min 19s, sys: 5min 53s, total: 18min 12s\n",
      "Wall time: 1h 12min 33s\n"
     ]
    }
   ],
   "source": [
    "%%time\n",
    "\n",
    "columns = optimize(benchmark, GreyWolfOptimizerMultiprocessing(nodes=4, NP=25), 100)"
   ]
  },
  {
   "cell_type": "code",
   "execution_count": 9,
   "metadata": {},
   "outputs": [
    {
     "name": "stdout",
     "output_type": "stream",
     "text": [
      "\u001b[1mnot fraud\u001b[0m\n",
      "precision: 0.7651010837299984\n",
      "recall: 0.9897636900704385\n",
      "f1-score: 0.8630514250616684\n",
      "support: 88020\n",
      "\n",
      "\n",
      "\u001b[1mis fraud\u001b[0m\n",
      "precision: 0.7876001885902876\n",
      "recall: 0.11104094655676681\n",
      "f1-score: 0.19464025633556656\n",
      "support: 30088\n",
      "\n",
      "\n",
      "accuracy: 0.7659091678802452\n",
      "\n",
      "\n",
      "\u001b[1mmacro avg\u001b[0m\n",
      "precision: 0.776350636160143\n",
      "recall: 0.5504023183136026\n",
      "f1-score: 0.5288458406986175\n",
      "support: 118108\n",
      "\n",
      "\n",
      "\u001b[1mweighted avg\u001b[0m\n",
      "precision: 0.7708327282167088\n",
      "recall: 0.7659091678802452\n",
      "f1-score: 0.6927737533998762\n",
      "support: 118108\n",
      "\n",
      "\n",
      "\u001b[1mArea Under the Receiver Operating Characteristic Curve (ROC AUC)\u001b[0m\n",
      "Score: 0.776350636160143\n",
      "\n",
      "\n"
     ]
    },
    {
     "data": {
      "image/png": "[encoded data removed]",
      "text/plain": [
       "<Figure size 432x288 with 2 Axes>"
      ]
     },
     "metadata": {
      "needs_background": "light"
     },
     "output_type": "display_data"
    }
   ],
   "source": [
    "clf = model_fn()\n",
    "clf = clf.fit(x_train[columns], y_train)\n",
    "custom_classification_report(clf, x_test[columns], y_test)"
   ]
  },
  {
   "cell_type": "markdown",
   "metadata": {},
   "source": [
    "We found the best solution from 5 independent runs of GWO algorithm. During every run we captured a different solution. For the final submission, we probably would not like to use \"the best one\", because we would like to have some variance. Maybe we can try to merge these solution together."
   ]
  },
  {
   "cell_type": "markdown",
   "metadata": {},
   "source": [
    "### Firefly Algorithm (FA)"
   ]
  },
  {
   "cell_type": "code",
   "execution_count": 10,
   "metadata": {},
   "outputs": [
    {
     "name": "stdout",
     "output_type": "stream",
     "text": [
      "--------------\n",
      "Run 1\n",
      "--------------\n",
      "Score: 0.7984354528431508\n",
      "Number of features selected: 118\n",
      "\n",
      "\n",
      "\n",
      "--------------\n",
      "Run 2\n",
      "--------------\n",
      "Score: 0.7980325593921238\n",
      "Number of features selected: 119\n",
      "\n",
      "\n",
      "\n",
      "--------------\n",
      "Run 3\n",
      "--------------\n",
      "Score: 0.8007932767566878\n",
      "Number of features selected: 130\n",
      "\n",
      "\n",
      "\n",
      "--------------\n",
      "Run 4\n",
      "--------------\n",
      "Score: 0.7998601163582624\n",
      "Number of features selected: 110\n",
      "\n",
      "\n",
      "\n",
      "--------------\n",
      "Run 5\n",
      "--------------\n",
      "Score: 0.8013894329426533\n",
      "Number of features selected: 128\n",
      "\n",
      "\n",
      "\n",
      "\n",
      "Best score of 5 runs: 0.8013894329426533\n",
      "Number of features selected: 128\n",
      "CPU times: user 1h 54min 58s, sys: 0 ns, total: 1h 54min 58s\n",
      "Wall time: 1h 54min 52s\n"
     ]
    }
   ],
   "source": [
    "%%time\n",
    "\n",
    "columns = optimize(benchmark, FireflyAlgorithm(), 100)"
   ]
  },
  {
   "cell_type": "code",
   "execution_count": 11,
   "metadata": {},
   "outputs": [
    {
     "name": "stdout",
     "output_type": "stream",
     "text": [
      "\u001b[1mnot fraud\u001b[0m\n",
      "precision: 0.8008624172272671\n",
      "recall: 0.9902163054336968\n",
      "f1-score: 0.8855300595266996\n",
      "support: 92092\n",
      "\n",
      "\n",
      "\u001b[1mis fraud\u001b[0m\n",
      "precision: 0.7876001885902876\n",
      "recall: 0.12842097170971709\n",
      "f1-score: 0.22083415956110777\n",
      "support: 26016\n",
      "\n",
      "\n",
      "accuracy: 0.8003860873099198\n",
      "\n",
      "\n",
      "\u001b[1mmacro avg\u001b[0m\n",
      "precision: 0.7942313029087773\n",
      "recall: 0.5593186385717069\n",
      "f1-score: 0.5531821095439037\n",
      "support: 118108\n",
      "\n",
      "\n",
      "\u001b[1mweighted avg\u001b[0m\n",
      "precision: 0.7979411067299286\n",
      "recall: 0.8003860873099198\n",
      "f1-score: 0.7391155191610611\n",
      "support: 118108\n",
      "\n",
      "\n",
      "\u001b[1mArea Under the Receiver Operating Characteristic Curve (ROC AUC)\u001b[0m\n",
      "Score: 0.7942313029087774\n",
      "\n",
      "\n"
     ]
    },
    {
     "data": {
      "image/png": "[encoded data removed]",
      "text/plain": [
       "<Figure size 432x288 with 2 Axes>"
      ]
     },
     "metadata": {
      "needs_background": "light"
     },
     "output_type": "display_data"
    }
   ],
   "source": [
    "clf = model_fn()\n",
    "clf = clf.fit(x_train[columns], y_train)\n",
    "custom_classification_report(clf, x_test[columns], y_test)"
   ]
  },
  {
   "cell_type": "markdown",
   "metadata": {},
   "source": [
    "### Genetic Algorithm (GA)"
   ]
  },
  {
   "cell_type": "code",
   "execution_count": 12,
   "metadata": {},
   "outputs": [
    {
     "name": "stdout",
     "output_type": "stream",
     "text": [
      "--------------\n",
      "Run 1\n",
      "--------------\n",
      "Score: 0.7991208678498352\n",
      "Number of features selected: 125\n",
      "\n",
      "\n",
      "\n",
      "--------------\n",
      "Run 2\n",
      "--------------\n",
      "Score: 0.8007835857990097\n",
      "Number of features selected: 121\n",
      "\n",
      "\n",
      "\n",
      "--------------\n",
      "Run 3\n",
      "--------------\n",
      "Score: 0.8000473512247888\n",
      "Number of features selected: 127\n",
      "\n",
      "\n",
      "\n",
      "--------------\n",
      "Run 4\n",
      "--------------\n",
      "Score: 0.8020460996538334\n",
      "Number of features selected: 134\n",
      "\n",
      "\n",
      "\n",
      "--------------\n",
      "Run 5\n",
      "--------------\n",
      "Score: 0.7982515564883605\n",
      "Number of features selected: 117\n",
      "\n",
      "\n",
      "\n",
      "\n",
      "Best score of 5 runs: 0.8020460996538334\n",
      "Number of features selected: 134\n",
      "CPU times: user 2h 30min 52s, sys: 2.13 s, total: 2h 30min 54s\n",
      "Wall time: 2h 30min 46s\n"
     ]
    }
   ],
   "source": [
    "%%time\n",
    "\n",
    "columns = optimize(benchmark, GeneticAlgorithm(), 100)"
   ]
  },
  {
   "cell_type": "code",
   "execution_count": 13,
   "metadata": {},
   "outputs": [
    {
     "name": "stdout",
     "output_type": "stream",
     "text": [
      "\u001b[1mnot fraud\u001b[0m\n",
      "precision: 0.7989917973758629\n",
      "recall: 0.9895904715287975\n",
      "f1-score: 0.8841356455993897\n",
      "support: 91935\n",
      "\n",
      "\n",
      "\u001b[1mis fraud\u001b[0m\n",
      "precision: 0.7743988684582744\n",
      "recall: 0.12551102280976578\n",
      "f1-score: 0.21601183626500084\n",
      "support: 26173\n",
      "\n",
      "\n",
      "accuracy: 0.7981085108544722\n",
      "\n",
      "\n",
      "\u001b[1mmacro avg\u001b[0m\n",
      "precision: 0.7866953329170687\n",
      "recall: 0.5575507471692817\n",
      "f1-score: 0.5500737409321953\n",
      "support: 118108\n",
      "\n",
      "\n",
      "\u001b[1mweighted avg\u001b[0m\n",
      "precision: 0.7935419486902527\n",
      "recall: 0.7981085108544722\n",
      "f1-score: 0.7360778979302314\n",
      "support: 118108\n",
      "\n",
      "\n",
      "\u001b[1mArea Under the Receiver Operating Characteristic Curve (ROC AUC)\u001b[0m\n",
      "Score: 0.7866953329170687\n",
      "\n",
      "\n"
     ]
    },
    {
     "data": {
      "image/png": "[encoded data removed]",
      "text/plain": [
       "<Figure size 432x288 with 2 Axes>"
      ]
     },
     "metadata": {
      "needs_background": "light"
     },
     "output_type": "display_data"
    }
   ],
   "source": [
    "clf = model_fn()\n",
    "clf = clf.fit(x_train[columns], y_train)\n",
    "custom_classification_report(clf, x_test[columns], y_test)"
   ]
  },
  {
   "cell_type": "markdown",
   "metadata": {},
   "source": [
    "### Particle Swarm Optimization (PSO)"
   ]
  },
  {
   "cell_type": "code",
   "execution_count": 14,
   "metadata": {},
   "outputs": [
    {
     "name": "stdout",
     "output_type": "stream",
     "text": [
      "--------------\n",
      "Run 1\n",
      "--------------\n",
      "Score: 0.8047336016012985\n",
      "Number of features selected: 121\n",
      "\n",
      "\n",
      "\n",
      "--------------\n",
      "Run 2\n",
      "--------------\n",
      "Score: 0.8072659554894778\n",
      "Number of features selected: 97\n",
      "\n",
      "\n",
      "\n",
      "--------------\n",
      "Run 3\n",
      "--------------\n",
      "Score: 0.7987784849240229\n",
      "Number of features selected: 121\n",
      "\n",
      "\n",
      "\n",
      "--------------\n",
      "Run 4\n",
      "--------------\n",
      "Score: 0.8053681970404465\n",
      "Number of features selected: 130\n",
      "\n",
      "\n",
      "\n",
      "--------------\n",
      "Run 5\n",
      "--------------\n",
      "Score: 0.8096134392902768\n",
      "Number of features selected: 121\n",
      "\n",
      "\n",
      "\n",
      "\n",
      "Best score of 5 runs: 0.8096134392902768\n",
      "Number of features selected: 121\n",
      "CPU times: user 2h 25min 24s, sys: 2.66 s, total: 2h 25min 27s\n",
      "Wall time: 2h 25min 19s\n"
     ]
    }
   ],
   "source": [
    "%%time\n",
    "\n",
    "columns = optimize(benchmark, ParticleSwarmOptimization(), 100)"
   ]
  },
  {
   "cell_type": "code",
   "execution_count": 15,
   "metadata": {},
   "outputs": [
    {
     "name": "stdout",
     "output_type": "stream",
     "text": [
      "\u001b[1mnot fraud\u001b[0m\n",
      "precision: 0.800221312771152\n",
      "recall: 0.9904884067265988\n",
      "f1-score: 0.8852466979825997\n",
      "support: 91993\n",
      "\n",
      "\n",
      "\u001b[1mis fraud\u001b[0m\n",
      "precision: 0.7937293729372937\n",
      "recall: 0.1289297338694237\n",
      "f1-score: 0.2218269262443588\n",
      "support: 26115\n",
      "\n",
      "\n",
      "accuracy: 0.7999881464422393\n",
      "\n",
      "\n",
      "\u001b[1mmacro avg\u001b[0m\n",
      "precision: 0.7969753428542229\n",
      "recall: 0.5597090702980112\n",
      "f1-score: 0.5535368121134793\n",
      "support: 118108\n",
      "\n",
      "\n",
      "\u001b[1mweighted avg\u001b[0m\n",
      "precision: 0.7987858722526333\n",
      "recall: 0.7999881464422393\n",
      "f1-score: 0.7385571651910516\n",
      "support: 118108\n",
      "\n",
      "\n",
      "\u001b[1mArea Under the Receiver Operating Characteristic Curve (ROC AUC)\u001b[0m\n",
      "Score: 0.7969753428542229\n",
      "\n",
      "\n"
     ]
    },
    {
     "data": {
      "image/png": "[encoded data removed]",
      "text/plain": [
       "<Figure size 432x288 with 2 Axes>"
      ]
     },
     "metadata": {
      "needs_background": "light"
     },
     "output_type": "display_data"
    }
   ],
   "source": [
    "clf = model_fn()\n",
    "clf = clf.fit(x_train[columns], y_train)\n",
    "custom_classification_report(clf, x_test[columns], y_test)"
   ]
  },
  {
   "cell_type": "markdown",
   "metadata": {},
   "source": [
    "### Bat Algorithm (BA)"
   ]
  },
  {
   "cell_type": "code",
   "execution_count": 8,
   "metadata": {},
   "outputs": [
    {
     "name": "stdout",
     "output_type": "stream",
     "text": [
      "--------------\n",
      "Run 1\n",
      "--------------\n",
      "Score: 0.8072656309119478\n",
      "Number of features selected: 119\n",
      "\n",
      "\n",
      "\n",
      "--------------\n",
      "Run 2\n",
      "--------------\n",
      "Score: 0.7969729992299166\n",
      "Number of features selected: 117\n",
      "\n",
      "\n",
      "\n",
      "--------------\n",
      "Run 3\n",
      "--------------\n",
      "Score: 0.8026776811587752\n",
      "Number of features selected: 118\n",
      "\n",
      "\n",
      "\n",
      "--------------\n",
      "Run 4\n",
      "--------------\n",
      "Score: 0.8094486002733129\n",
      "Number of features selected: 105\n",
      "\n",
      "\n",
      "\n",
      "--------------\n",
      "Run 5\n",
      "--------------\n",
      "Score: 0.8149406375518768\n",
      "Number of features selected: 118\n",
      "\n",
      "\n",
      "\n",
      "\n",
      "Best score of 5 runs: 0.8149406375518768\n",
      "Number of features selected: 118\n",
      "CPU times: user 3h 50min 16s, sys: 1.22 s, total: 3h 50min 17s\n",
      "Wall time: 3h 50min 17s\n"
     ]
    }
   ],
   "source": [
    "%%time\n",
    "\n",
    "columns = optimize(benchmark, BatAlgorithm(), 100)"
   ]
  },
  {
   "cell_type": "code",
   "execution_count": 9,
   "metadata": {},
   "outputs": [
    {
     "name": "stdout",
     "output_type": "stream",
     "text": [
      "\u001b[1mnot fraud\u001b[0m\n",
      "precision: 0.8073876310751233\n",
      "recall: 0.990721482838515\n",
      "f1-score: 0.8897082661943957\n",
      "support: 92795\n",
      "\n",
      "\n",
      "\u001b[1mis fraud\u001b[0m\n",
      "precision: 0.7970297029702971\n",
      "recall: 0.13356773199541738\n",
      "f1-score: 0.22879377431906617\n",
      "support: 25313\n",
      "\n",
      "\n",
      "accuracy: 0.8070156128289362\n",
      "\n",
      "\n",
      "\u001b[1mmacro avg\u001b[0m\n",
      "precision: 0.8022086670227102\n",
      "recall: 0.5621446074169663\n",
      "f1-score: 0.5592510202567309\n",
      "support: 118108\n",
      "\n",
      "\n",
      "\u001b[1mweighted avg\u001b[0m\n",
      "precision: 0.8051677117291225\n",
      "recall: 0.8070156128289362\n",
      "f1-score: 0.7480605494195776\n",
      "support: 118108\n",
      "\n",
      "\n",
      "\u001b[1mArea Under the Receiver Operating Characteristic Curve (ROC AUC)\u001b[0m\n",
      "Score: 0.8022086670227102\n",
      "\n",
      "\n"
     ]
    },
    {
     "data": {
      "image/png": "[encoded data removed]",
      "text/plain": [
       "<Figure size 432x288 with 2 Axes>"
      ]
     },
     "metadata": {
      "needs_background": "light"
     },
     "output_type": "display_data"
    }
   ],
   "source": [
    "clf = model_fn()\n",
    "clf = clf.fit(x_train[columns], y_train)\n",
    "custom_classification_report(clf, x_test[columns], y_test)"
   ]
  },
  {
   "cell_type": "markdown",
   "metadata": {},
   "source": [
    "### Conclusion\n",
    "\n",
    "__Grey Wolf Optimization__\n",
    "\n",
    "Score (ROC AUC): 0.776\n",
    "\n",
    "__Firefly Algorithm__\n",
    "\n",
    "Score (ROC AUC): 0.794\n",
    "    \n",
    "__Genetic Algorithm__\n",
    "\n",
    "Score (ROC AUC): 0.786\n",
    "    \n",
    "__Particle Swarm Optimization__\n",
    "\n",
    "Score (ROC AUC): 0.796\n",
    "    \n",
    "__Bat Algorithm__\n",
    "\n",
    "Score (ROC AUC): 0.802"
   ]
  }
 ],
 "metadata": {
  "kernelspec": {
   "display_name": "Python 3",
   "language": "python",
   "name": "python3"
  },
  "language_info": {
   "codemirror_mode": {
    "name": "ipython",
    "version": 3
   },
   "file_extension": ".py",
   "mimetype": "text/x-python",
   "name": "python",
   "nbconvert_exporter": "python",
   "pygments_lexer": "ipython3",
   "version": "3.7.6"
  }
 },
 "nbformat": 4,
 "nbformat_minor": 4
}
