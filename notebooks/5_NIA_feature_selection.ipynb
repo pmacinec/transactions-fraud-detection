{
 "cells": [
  {
   "cell_type": "markdown",
   "metadata": {},
   "source": [
    "# Transactions Fraud Detection\n",
    "\n",
    "**Authors:** [Peter Macinec](https://github.com/pmacinec), [Timotej Zatko](https://github.com/timzatko)"
   ]
  },
  {
   "cell_type": "markdown",
   "metadata": {},
   "source": [
    "## Nature Inspired Algorithms for Feature Selection\n",
    "\n",
    "- all used on DT, compared with baseline \n",
    "\n",
    "We will train the model with selected features on the whole dataset."
   ]
  },
  {
   "cell_type": "code",
   "execution_count": 1,
   "metadata": {},
   "outputs": [],
   "source": [
    "%load_ext autoreload\n",
    "%autoreload 2"
   ]
  },
  {
   "cell_type": "code",
   "execution_count": 2,
   "metadata": {},
   "outputs": [],
   "source": [
    "import sys\n",
    "sys.path.append('..')\n",
    "\n",
    "from sklearn.model_selection import train_test_split\n",
    "from sklearn.metrics import roc_auc_score\n",
    "from sklearn.tree import DecisionTreeClassifier\n",
    "\n",
    "from NiaPy.task import StoppingTask, OptimizationType\n",
    "from NiaPy.algorithms.basic import GreyWolfOptimizer, FireflyAlgorithm, GeneticAlgorithm, \\\n",
    "    BatAlgorithm, ParticleSwarmOptimization\n",
    "\n",
    "from src.algorithms.grey_wolf_optimizer_multiprocessing import GreyWolfOptimizerMultiprocessing\n",
    "\n",
    "from src.dataset import load_processed_data\n",
    "from src.data_balancing import random_undersample\n",
    "from src.evaluation import custom_classification_report\n",
    "\n",
    "from src.classification_benchmark import ClassificationBenchmark"
   ]
  },
  {
   "cell_type": "markdown",
   "metadata": {},
   "source": [
    "### Load the data"
   ]
  },
  {
   "cell_type": "code",
   "execution_count": 3,
   "metadata": {},
   "outputs": [
    {
     "name": "stdout",
     "output_type": "stream",
     "text": [
      "Number of records:\n",
      "  x_train - 4724\n",
      "  y_train - 4724\n",
      "  x_test - 1181\n",
      "  y_test - 1181\n"
     ]
    }
   ],
   "source": [
    "x_train, y_train, x_test, y_test = load_processed_data()"
   ]
  },
  {
   "cell_type": "code",
   "execution_count": 4,
   "metadata": {},
   "outputs": [
    {
     "data": {
      "text/plain": [
       "(292, 292)"
      ]
     },
     "execution_count": 4,
     "metadata": {},
     "output_type": "execute_result"
    }
   ],
   "source": [
    "x_train, y_train = random_undersample(x_train, y_train)\n",
    "len(x_train), len(y_train)"
   ]
  },
  {
   "cell_type": "markdown",
   "metadata": {},
   "source": [
    "### Setup classification benchmark"
   ]
  },
  {
   "cell_type": "code",
   "execution_count": 5,
   "metadata": {},
   "outputs": [],
   "source": [
    "def model_fn():\n",
    "    return DecisionTreeClassifier(random_state=42)"
   ]
  },
  {
   "cell_type": "code",
   "execution_count": 6,
   "metadata": {},
   "outputs": [],
   "source": [
    "columns_count = len(x_train.columns)\n",
    "\n",
    "_x_train, _x_val, _y_train, _y_val = train_test_split(x_train, y_train, test_size=0.2, random_state=42)\n",
    "\n",
    "benchmark = ClassificationBenchmark(\n",
    "    model_fn,\n",
    "    roc_auc_score,\n",
    "    _x_train,\n",
    "    _y_train,\n",
    "    _x_val,\n",
    "    _y_val\n",
    ")"
   ]
  },
  {
   "cell_type": "code",
   "execution_count": 7,
   "metadata": {},
   "outputs": [],
   "source": [
    "def optimize(benchmark, algorithm, nGEN, num_runs = 5):\n",
    "    \"\"\"\n",
    "    Optimize task with GWO optimizer.\n",
    "    \n",
    "    :param benchmark: NiaPy.Benchmark to optimize.\n",
    "    :param algorithm: algorithm object to use for optimization task.\n",
    "    :param nGEN: number of generations.\n",
    "    :param num_runs: number of algorithm runs (defaults to 5).\n",
    "    \"\"\"\n",
    "    best_columns = None\n",
    "    best_score = 0\n",
    "    \n",
    "    for i in range(num_runs):\n",
    "        # when using OptimizationType.MAXIMIZATION, the library will fail\n",
    "        # we use OptimizationType.MINIMIZATION instead and invert the score\n",
    "        task = StoppingTask(\n",
    "            D=benchmark.get_length(),\n",
    "            nGEN=nGEN,\n",
    "            optType=OptimizationType.MINIMIZATION,\n",
    "            benchmark=benchmark\n",
    "        )\n",
    "        \n",
    "        solution_vec, score = algorithm.run(task=task)    \n",
    "        \n",
    "        # invert the score\n",
    "        score = 1 - score\n",
    "        columns = benchmark.select_columns(solution_vec)\n",
    "        \n",
    "        print('--------------')\n",
    "        print(f'Run {i + 1}')\n",
    "        print('--------------')\n",
    "        print(f'Score: {score}')\n",
    "        print(f'Number of features selected: {len(columns)}\\n')\n",
    "        print('\\n')\n",
    "        \n",
    "        if score > best_score:\n",
    "            best_score = score\n",
    "            best_columns = columns\n",
    "\n",
    "    print(f'\\nBest score of {num_runs} runs: {best_score}')\n",
    "    print(f'Number of features selected: {len(best_columns)}')\n",
    "            \n",
    "    return best_columns"
   ]
  },
  {
   "cell_type": "markdown",
   "metadata": {},
   "source": [
    "### Grey Wolf Optimization (GWO)"
   ]
  },
  {
   "cell_type": "markdown",
   "metadata": {},
   "source": [
    "Find the optimal combination of columns."
   ]
  },
  {
   "cell_type": "code",
   "execution_count": 8,
   "metadata": {},
   "outputs": [
    {
     "name": "stdout",
     "output_type": "stream",
     "text": [
      "--------------\n",
      "Run 1\n",
      "--------------\n",
      "Score: 0.8137931034482759\n",
      "Number of features selected: 212\n",
      "\n",
      "\n",
      "\n",
      "\n",
      "Best score of 1 runs: 0.8137931034482759\n",
      "Number of features selected: 212\n",
      "CPU times: user 20.7 s, sys: 18.9 s, total: 39.5 s\n",
      "Wall time: 55.2 s\n"
     ]
    }
   ],
   "source": [
    "%%time\n",
    "\n",
    "columns = optimize(benchmark, GreyWolfOptimizerMultiprocessing(nodes=4, NP=25), 100)"
   ]
  },
  {
   "cell_type": "code",
   "execution_count": 9,
   "metadata": {},
   "outputs": [
    {
     "name": "stdout",
     "output_type": "stream",
     "text": [
      "\u001b[1mnot fraud\u001b[0m\n",
      "precision: 0.6275555555555555\n",
      "recall: 0.9684499314128944\n",
      "f1-score: 0.761596548004315\n",
      "support: 729\n",
      "\n",
      "\n",
      "\u001b[1mis fraud\u001b[0m\n",
      "precision: 0.5892857142857143\n",
      "recall: 0.07300884955752213\n",
      "f1-score: 0.12992125984251968\n",
      "support: 452\n",
      "\n",
      "\n",
      "accuracy: 0.6257408975444538\n",
      "\n",
      "\n",
      "\u001b[1mmacro avg\u001b[0m\n",
      "precision: 0.6084206349206349\n",
      "recall: 0.5207293904852083\n",
      "f1-score: 0.4457589039234173\n",
      "support: 1181\n",
      "\n",
      "\n",
      "\u001b[1mweighted avg\u001b[0m\n",
      "precision: 0.6129086730373776\n",
      "recall: 0.6257408975444538\n",
      "f1-score: 0.5198376739576329\n",
      "support: 1181\n",
      "\n",
      "\n",
      "\u001b[1mArea Under the Receiver Operating Characteristic Curve (ROC AUC)\u001b[0m\n",
      "Score: 0.6084206349206349\n",
      "\n",
      "\n"
     ]
    },
    {
     "data": {
      "image/png": "[encoded data removed]",
      "text/plain": [
       "<Figure size 432x288 with 2 Axes>"
      ]
     },
     "metadata": {
      "needs_background": "light"
     },
     "output_type": "display_data"
    }
   ],
   "source": [
    "clf = model_fn()\n",
    "clf = clf.fit(x_train[columns], y_train)\n",
    "custom_classification_report(clf, x_test[columns], y_test)"
   ]
  },
  {
   "cell_type": "markdown",
   "metadata": {},
   "source": [
    "We found the best solution from 5 independent runs of GWO algorithm. During every run we captured a different solution. For the final submission, we probably would not like to use \"the best one\", because we would like to have some variance. Maybe we can try to merge these solution together."
   ]
  },
  {
   "cell_type": "markdown",
   "metadata": {},
   "source": [
    "### Firefly Algorithm (FA)"
   ]
  },
  {
   "cell_type": "code",
   "execution_count": 10,
   "metadata": {},
   "outputs": [
    {
     "name": "stdout",
     "output_type": "stream",
     "text": [
      "--------------\n",
      "Run 1\n",
      "--------------\n",
      "Score: 0.8643678160919541\n",
      "Number of features selected: 217\n",
      "\n",
      "\n",
      "\n",
      "\n",
      "Best score of 1 runs: 0.8643678160919541\n",
      "Number of features selected: 217\n",
      "CPU times: user 20.6 s, sys: 44.3 ms, total: 20.6 s\n",
      "Wall time: 20.6 s\n"
     ]
    }
   ],
   "source": [
    "%%time\n",
    "\n",
    "columns = optimize(benchmark, FireflyAlgorithm(), 100)"
   ]
  },
  {
   "cell_type": "code",
   "execution_count": 11,
   "metadata": {},
   "outputs": [
    {
     "name": "stdout",
     "output_type": "stream",
     "text": [
      "\u001b[1mnot fraud\u001b[0m\n",
      "precision: 0.6951111111111111\n",
      "recall: 0.972636815920398\n",
      "f1-score: 0.8107827890098496\n",
      "support: 804\n",
      "\n",
      "\n",
      "\u001b[1mis fraud\u001b[0m\n",
      "precision: 0.6071428571428571\n",
      "recall: 0.09018567639257294\n",
      "f1-score: 0.15704387990762123\n",
      "support: 377\n",
      "\n",
      "\n",
      "accuracy: 0.6909398814563928\n",
      "\n",
      "\n",
      "\u001b[1mmacro avg\u001b[0m\n",
      "precision: 0.6511269841269841\n",
      "recall: 0.5314112461564855\n",
      "f1-score: 0.4839133344587354\n",
      "support: 1181\n",
      "\n",
      "\n",
      "\u001b[1mweighted avg\u001b[0m\n",
      "precision: 0.6670297971855973\n",
      "recall: 0.6909398814563928\n",
      "f1-score: 0.6020956012608741\n",
      "support: 1181\n",
      "\n",
      "\n",
      "\u001b[1mArea Under the Receiver Operating Characteristic Curve (ROC AUC)\u001b[0m\n",
      "Score: 0.6511269841269841\n",
      "\n",
      "\n"
     ]
    },
    {
     "data": {
      "image/png": "[encoded data removed]",
      "text/plain": [
       "<Figure size 432x288 with 2 Axes>"
      ]
     },
     "metadata": {
      "needs_background": "light"
     },
     "output_type": "display_data"
    }
   ],
   "source": [
    "clf = model_fn()\n",
    "clf = clf.fit(x_train[columns], y_train)\n",
    "custom_classification_report(clf, x_test[columns], y_test)"
   ]
  },
  {
   "cell_type": "markdown",
   "metadata": {},
   "source": [
    "### Genetic Algorithm (GA)"
   ]
  },
  {
   "cell_type": "code",
   "execution_count": 12,
   "metadata": {},
   "outputs": [
    {
     "name": "stdout",
     "output_type": "stream",
     "text": [
      "--------------\n",
      "Run 1\n",
      "--------------\n",
      "Score: 0.8482758620689657\n",
      "Number of features selected: 214\n",
      "\n",
      "\n",
      "\n",
      "\n",
      "Best score of 1 runs: 0.8482758620689657\n",
      "Number of features selected: 214\n",
      "CPU times: user 32.6 s, sys: 72.9 ms, total: 32.7 s\n",
      "Wall time: 32.6 s\n"
     ]
    }
   ],
   "source": [
    "%%time\n",
    "\n",
    "columns = optimize(benchmark, GeneticAlgorithm(), 100)"
   ]
  },
  {
   "cell_type": "code",
   "execution_count": 13,
   "metadata": {},
   "outputs": [
    {
     "name": "stdout",
     "output_type": "stream",
     "text": [
      "\u001b[1mnot fraud\u001b[0m\n",
      "precision: 0.7431111111111111\n",
      "recall: 0.9698375870069605\n",
      "f1-score: 0.8414695520885757\n",
      "support: 862\n",
      "\n",
      "\n",
      "\u001b[1mis fraud\u001b[0m\n",
      "precision: 0.5357142857142857\n",
      "recall: 0.09404388714733543\n",
      "f1-score: 0.16\n",
      "support: 319\n",
      "\n",
      "\n",
      "accuracy: 0.7332768839966131\n",
      "\n",
      "\n",
      "\u001b[1mmacro avg\u001b[0m\n",
      "precision: 0.6394126984126984\n",
      "recall: 0.531940737077148\n",
      "f1-score: 0.5007347760442878\n",
      "support: 1181\n",
      "\n",
      "\n",
      "\u001b[1mweighted avg\u001b[0m\n",
      "precision: 0.6870911387981666\n",
      "recall: 0.7332768839966131\n",
      "f1-score: 0.6573977594414498\n",
      "support: 1181\n",
      "\n",
      "\n",
      "\u001b[1mArea Under the Receiver Operating Characteristic Curve (ROC AUC)\u001b[0m\n",
      "Score: 0.6394126984126983\n",
      "\n",
      "\n"
     ]
    },
    {
     "data": {
      "image/png": "[encoded data removed]",
      "text/plain": [
       "<Figure size 432x288 with 2 Axes>"
      ]
     },
     "metadata": {
      "needs_background": "light"
     },
     "output_type": "display_data"
    }
   ],
   "source": [
    "clf = model_fn()\n",
    "clf = clf.fit(x_train[columns], y_train)\n",
    "custom_classification_report(clf, x_test[columns], y_test)"
   ]
  },
  {
   "cell_type": "markdown",
   "metadata": {},
   "source": [
    "### Particle Swarm Optimization (PSO)"
   ]
  },
  {
   "cell_type": "code",
   "execution_count": 14,
   "metadata": {},
   "outputs": [
    {
     "name": "stdout",
     "output_type": "stream",
     "text": [
      "--------------\n",
      "Run 1\n",
      "--------------\n",
      "Score: 0.8810344827586207\n",
      "Number of features selected: 210\n",
      "\n",
      "\n",
      "\n",
      "\n",
      "Best score of 1 runs: 0.8810344827586207\n",
      "Number of features selected: 210\n",
      "CPU times: user 23.8 s, sys: 31.9 ms, total: 23.8 s\n",
      "Wall time: 23.7 s\n"
     ]
    }
   ],
   "source": [
    "%%time\n",
    "\n",
    "columns = optimize(benchmark, ParticleSwarmOptimization(), 100)"
   ]
  },
  {
   "cell_type": "code",
   "execution_count": 15,
   "metadata": {},
   "outputs": [
    {
     "name": "stdout",
     "output_type": "stream",
     "text": [
      "\u001b[1mnot fraud\u001b[0m\n",
      "precision: 0.7324444444444445\n",
      "recall: 0.9751479289940829\n",
      "f1-score: 0.8365482233502538\n",
      "support: 845\n",
      "\n",
      "\n",
      "\u001b[1mis fraud\u001b[0m\n",
      "precision: 0.625\n",
      "recall: 0.10416666666666667\n",
      "f1-score: 0.1785714285714286\n",
      "support: 336\n",
      "\n",
      "\n",
      "accuracy: 0.7273497036409822\n",
      "\n",
      "\n",
      "\u001b[1mmacro avg\u001b[0m\n",
      "precision: 0.6787222222222222\n",
      "recall: 0.5396572978303747\n",
      "f1-score: 0.5075598259608411\n",
      "support: 1181\n",
      "\n",
      "\n",
      "\u001b[1mweighted avg\u001b[0m\n",
      "precision: 0.7018759996236711\n",
      "recall: 0.7273497036409822\n",
      "f1-score: 0.6493507609915026\n",
      "support: 1181\n",
      "\n",
      "\n",
      "\u001b[1mArea Under the Receiver Operating Characteristic Curve (ROC AUC)\u001b[0m\n",
      "Score: 0.6787222222222222\n",
      "\n",
      "\n"
     ]
    },
    {
     "data": {
      "image/png": "[encoded data removed]",
      "text/plain": [
       "<Figure size 432x288 with 2 Axes>"
      ]
     },
     "metadata": {
      "needs_background": "light"
     },
     "output_type": "display_data"
    }
   ],
   "source": [
    "clf = model_fn()\n",
    "clf = clf.fit(x_train[columns], y_train)\n",
    "custom_classification_report(clf, x_test[columns], y_test)"
   ]
  },
  {
   "cell_type": "markdown",
   "metadata": {},
   "source": [
    "### Bat Algorithm (BA)"
   ]
  },
  {
   "cell_type": "code",
   "execution_count": 16,
   "metadata": {},
   "outputs": [
    {
     "name": "stdout",
     "output_type": "stream",
     "text": [
      "--------------\n",
      "Run 1\n",
      "--------------\n",
      "Score: 0.8471264367816091\n",
      "Number of features selected: 216\n",
      "\n",
      "\n",
      "\n",
      "\n",
      "Best score of 1 runs: 0.8471264367816091\n",
      "Number of features selected: 216\n",
      "CPU times: user 42.3 s, sys: 140 ms, total: 42.5 s\n",
      "Wall time: 42.4 s\n"
     ]
    }
   ],
   "source": [
    "%%time\n",
    "\n",
    "columns = optimize(benchmark, BatAlgorithm(), 100)"
   ]
  },
  {
   "cell_type": "code",
   "execution_count": 17,
   "metadata": {},
   "outputs": [
    {
     "name": "stdout",
     "output_type": "stream",
     "text": [
      "\u001b[1mnot fraud\u001b[0m\n",
      "precision: 0.6746666666666666\n",
      "recall: 0.9644218551461246\n",
      "f1-score: 0.7939330543933054\n",
      "support: 787\n",
      "\n",
      "\n",
      "\u001b[1mis fraud\u001b[0m\n",
      "precision: 0.5\n",
      "recall: 0.07106598984771574\n",
      "f1-score: 0.12444444444444445\n",
      "support: 394\n",
      "\n",
      "\n",
      "accuracy: 0.6663844199830652\n",
      "\n",
      "\n",
      "\u001b[1mmacro avg\u001b[0m\n",
      "precision: 0.5873333333333333\n",
      "recall: 0.5177439224969201\n",
      "f1-score: 0.45918874941887494\n",
      "support: 1181\n",
      "\n",
      "\n",
      "\u001b[1mweighted avg\u001b[0m\n",
      "precision: 0.6163951453570421\n",
      "recall: 0.6663844199830652\n",
      "f1-score: 0.5705812234704848\n",
      "support: 1181\n",
      "\n",
      "\n",
      "\u001b[1mArea Under the Receiver Operating Characteristic Curve (ROC AUC)\u001b[0m\n",
      "Score: 0.5873333333333334\n",
      "\n",
      "\n"
     ]
    },
    {
     "data": {
      "image/png": "[encoded data removed]",
      "text/plain": [
       "<Figure size 432x288 with 2 Axes>"
      ]
     },
     "metadata": {
      "needs_background": "light"
     },
     "output_type": "display_data"
    }
   ],
   "source": [
    "clf = model_fn()\n",
    "clf = clf.fit(x_train[columns], y_train)\n",
    "custom_classification_report(clf, x_test[columns], y_test)"
   ]
  },
  {
   "cell_type": "markdown",
   "metadata": {},
   "source": [
    "### Conclusion\n",
    "\n",
    "TODO"
   ]
  }
 ],
 "metadata": {
  "kernelspec": {
   "display_name": "Python 3",
   "language": "python",
   "name": "python3"
  },
  "language_info": {
   "codemirror_mode": {
    "name": "ipython",
    "version": 3
   },
   "file_extension": ".py",
   "mimetype": "text/x-python",
   "name": "python",
   "nbconvert_exporter": "python",
   "pygments_lexer": "ipython3",
   "version": "3.7.6"
  }
 },
 "nbformat": 4,
 "nbformat_minor": 4
}
