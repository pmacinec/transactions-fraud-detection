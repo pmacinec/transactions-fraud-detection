{
 "cells": [
  {
   "cell_type": "markdown",
   "metadata": {},
   "source": [
    "# Transactions Fraud Detection\n",
    "\n",
    "**Authors:** [Peter Macinec](https://github.com/pmacinec), [Timotej Zatko](https://github.com/timzatko)"
   ]
  },
  {
   "cell_type": "markdown",
   "metadata": {},
   "source": [
    "## Nature Inspired Algorithms for Feature Selection\n",
    "\n",
    "- all used on DT, compared with baseline "
   ]
  },
  {
   "cell_type": "code",
   "execution_count": 1,
   "metadata": {},
   "outputs": [],
   "source": [
    "%load_ext autoreload\n",
    "%autoreload 2"
   ]
  },
  {
   "cell_type": "code",
   "execution_count": 2,
   "metadata": {},
   "outputs": [],
   "source": [
    "import sys\n",
    "sys.path.append('..')\n",
    "\n",
    "from sklearn.model_selection import train_test_split\n",
    "from sklearn.metrics import roc_auc_score\n",
    "from sklearn.tree import DecisionTreeClassifier\n",
    "\n",
    "from NiaPy.task import StoppingTask, OptimizationType\n",
    "from NiaPy.algorithms.basic import GreyWolfOptimizer\n",
    "\n",
    "from src.algorithms.gray_wolf_optimizer_multiprocessing import GreyWolfOptimizerMultiprocessing\n",
    "\n",
    "from src.dataset import load_processed_data\n",
    "from src.evaluation import custom_classification_report\n",
    "\n",
    "from src.classification_benchmark import ClassificationBenchmark"
   ]
  },
  {
   "cell_type": "markdown",
   "metadata": {},
   "source": [
    "### Load the data"
   ]
  },
  {
   "cell_type": "code",
   "execution_count": 3,
   "metadata": {},
   "outputs": [
    {
     "name": "stdout",
     "output_type": "stream",
     "text": [
      "Number of records:\n",
      "  x_train - 94486\n",
      "  y_train - 94486\n",
      "  x_test - 23621\n",
      "  y_test - 23621\n",
      "CPU times: user 26.4 s, sys: 1.91 s, total: 28.4 s\n",
      "Wall time: 34.2 s\n"
     ]
    }
   ],
   "source": [
    "%%time\n",
    "\n",
    "x_train, y_train, _, _ = load_processed_data(frac=0.2)"
   ]
  },
  {
   "cell_type": "markdown",
   "metadata": {},
   "source": [
    "### Setup classification benchmark"
   ]
  },
  {
   "cell_type": "code",
   "execution_count": 4,
   "metadata": {},
   "outputs": [],
   "source": [
    "def model_fn():\n",
    "    return DecisionTreeClassifier(random_state=42)"
   ]
  },
  {
   "cell_type": "code",
   "execution_count": 5,
   "metadata": {},
   "outputs": [],
   "source": [
    "columns_count = len(x_train.columns)\n",
    "\n",
    "_x_train, _x_val, _y_train, _y_val = train_test_split(x_train, y_train, test_size=0.2, random_state=42)\n",
    "\n",
    "benchmark = ClassificationBenchmark(\n",
    "    model_fn,\n",
    "    roc_auc_score,\n",
    "    _x_train,\n",
    "    _y_train,\n",
    "    _x_val,\n",
    "    _y_val\n",
    ")"
   ]
  },
  {
   "cell_type": "markdown",
   "metadata": {},
   "source": [
    "### Find optimal features"
   ]
  },
  {
   "cell_type": "markdown",
   "metadata": {},
   "source": [
    "### Grey Wolf Optimization (GWO)"
   ]
  },
  {
   "cell_type": "code",
   "execution_count": 6,
   "metadata": {},
   "outputs": [],
   "source": [
    "def optimize(benchmark, nGEN):\n",
    "    \"\"\"\n",
    "    Optimize task with GWO optimizer.\n",
    "    \n",
    "    :param benchmark: NiaPy.Benchmark to optimize\n",
    "    :param nGEN: number of generations\n",
    "    \"\"\"\n",
    "    \n",
    "    best_columns = None\n",
    "    best_score = 0\n",
    "    \n",
    "    for i in range(5):\n",
    "        # when using OptimizationType.MAXIMIZATION, the library will fail\n",
    "        # we use OptimizationType.MINIMIZATION instead and invert the score\n",
    "        task = StoppingTask(D=benchmark.get_length(), nGEN=nGEN, optType=OptimizationType.MINIMIZATION, benchmark=benchmark)\n",
    "        # algo = GreyWolfOptimizer(NP=25)\n",
    "        algo = GreyWolfOptimizerMultiprocessing(nodes=4, NP=25)\n",
    "        solution_vec, score = algo.run(task=task)    \n",
    "        \n",
    "        # invert the score\n",
    "        score = 1 - score\n",
    "        columns = benchmark.select_columns(solution_vec)\n",
    "        \n",
    "        print(f'Score: {score}')\n",
    "        print(columns)\n",
    "        print('\\n')\n",
    "        \n",
    "        if score > best_score:\n",
    "            best_score = score\n",
    "            best_columns = columns\n",
    "\n",
    "    print('---')\n",
    "    print(f'Score: {best_score}')\n",
    "            \n",
    "    return best_columns\n"
   ]
  },
  {
   "cell_type": "markdown",
   "metadata": {},
   "source": [
    "Find the optimal combination of columns."
   ]
  },
  {
   "cell_type": "code",
   "execution_count": 7,
   "metadata": {},
   "outputs": [
    {
     "name": "stdout",
     "output_type": "stream",
     "text": [
      "Score: 0.7030373501051757\n",
      "['C3', 'C4', 'C5', 'C7', 'C8', 'C9', 'C11', 'D10', 'V3', 'V13', 'V14', 'V15', 'V16', 'V18', 'V19', 'V22', 'V26', 'V27', 'V31', 'V32', 'V34', 'V36', 'V37', 'V43', 'V44', 'V48', 'V52', 'V53', 'V55', 'V56', 'V58', 'V60', 'V61', 'V63', 'V64', 'V65', 'V66', 'V67', 'V68', 'V70', 'V71', 'V72', 'V73', 'V74', 'V75', 'V79', 'V86', 'V87', 'V90', 'V91', 'V92', 'V94', 'V96', 'V97', 'V98', 'V99', 'V101', 'V103', 'V104', 'V106', 'V109', 'V112', 'V113', 'V114', 'V122', 'V123', 'V124', 'V131', 'V132', 'V134', 'V136', 'V137', 'V281', 'V288', 'V293', 'V295', 'V298', 'V301', 'V302', 'V305', 'V306', 'V308', 'V310', 'V314', 'V316', 'V317', 'V319', 'V320', 'V321', 'ProductCD_C', 'ProductCD_H', 'ProductCD_R', 'card1_other', 'card2_490.0', 'card2_555.0', 'card4_other', 'card6_debit', 'card6_other', 'addr1_other', 'addr2_87.0', 'P_emaildomain_anonymous', 'P_emaildomain_hotmail', 'P_emaildomain_nan', 'M1_T', 'M1_other']\n",
      "\n",
      "\n",
      "Score: 0.708152879960965\n",
      "['TransactionDT', 'C3', 'C5', 'C7', 'C8', 'C10', 'C11', 'C12', 'C13', 'C14', 'V1', 'V3', 'V4', 'V5', 'V6', 'V7', 'V10', 'V13', 'V14', 'V15', 'V19', 'V22', 'V24', 'V25', 'V26', 'V29', 'V32', 'V33', 'V34', 'V35', 'V36', 'V39', 'V40', 'V41', 'V42', 'V45', 'V46', 'V47', 'V48', 'V49', 'V55', 'V60', 'V61', 'V63', 'V65', 'V66', 'V68', 'V69', 'V72', 'V73', 'V76', 'V77', 'V79', 'V80', 'V82', 'V84', 'V87', 'V88', 'V89', 'V90', 'V94', 'V97', 'V98', 'V99', 'V105', 'V106', 'V108', 'V109', 'V110', 'V111', 'V114', 'V115', 'V116', 'V117', 'V118', 'V119', 'V121', 'V122', 'V125', 'V129', 'V132', 'V133', 'V134', 'V135', 'V136', 'V279', 'V280', 'V281', 'V282', 'V283', 'V284', 'V286', 'V288', 'V290', 'V291', 'V295', 'V296', 'V297', 'V298', 'V299', 'V307', 'V309', 'V311', 'V313', 'V315', 'V317', 'V319', 'V321', 'ProductCD_other', 'card1_other', 'card2_490.0', 'card3_other', 'card4_mastercard', 'card4_visa', 'card5_other', 'card6_credit', 'addr1_other', 'P_emaildomain_nan', 'P_emaildomain_other', 'P_emaildomain_yahoo', 'M1_T', 'M1_other', 'M2_T', 'M3_T', 'M4_M1', 'M6_T']\n",
      "\n",
      "\n",
      "Score: 0.713313750002552\n",
      "['TransactionDT', 'TransactionAmt', 'C2', 'C3', 'C5', 'C6', 'C7', 'C12', 'C14', 'D3', 'D4', 'D11', 'V2', 'V3', 'V6', 'V7', 'V8', 'V12', 'V13', 'V14', 'V15', 'V17', 'V18', 'V20', 'V21', 'V23', 'V25', 'V26', 'V27', 'V36', 'V37', 'V38', 'V42', 'V44', 'V46', 'V48', 'V51', 'V52', 'V60', 'V64', 'V65', 'V66', 'V68', 'V69', 'V71', 'V73', 'V74', 'V75', 'V79', 'V80', 'V81', 'V84', 'V90', 'V91', 'V92', 'V95', 'V100', 'V101', 'V102', 'V103', 'V104', 'V105', 'V106', 'V108', 'V109', 'V112', 'V114', 'V115', 'V118', 'V119', 'V120', 'V121', 'V122', 'V124', 'V125', 'V126', 'V128', 'V129', 'V130', 'V131', 'V133', 'V135', 'V279', 'V280', 'V285', 'V287', 'V288', 'V291', 'V293', 'V294', 'V295', 'V296', 'V298', 'V302', 'V303', 'V306', 'V307', 'V309', 'V316', 'V317', 'V319', 'ProductCD_R', 'ProductCD_other', 'card1_other', 'card2_490.0', 'card2_555.0', 'card4_mastercard', 'card4_other', 'card4_visa', 'card6_credit', 'card6_debit', 'card6_other', 'addr1_other', 'P_emaildomain_hotmail', 'M1_T', 'M1_other', 'M3_other', 'M4_M0']\n",
      "\n",
      "\n",
      "Score: 0.7107644916761203\n",
      "['TransactionDT', 'C1', 'C2', 'C3', 'C4', 'C7', 'C9', 'C11', 'C13', 'D1', 'D2', 'D4', 'D10', 'D11', 'D15', 'V2', 'V4', 'V7', 'V9', 'V10', 'V14', 'V15', 'V16', 'V17', 'V20', 'V25', 'V26', 'V30', 'V35', 'V38', 'V40', 'V41', 'V42', 'V43', 'V45', 'V46', 'V47', 'V48', 'V49', 'V50', 'V51', 'V52', 'V53', 'V55', 'V58', 'V59', 'V63', 'V67', 'V68', 'V69', 'V75', 'V77', 'V78', 'V82', 'V83', 'V84', 'V85', 'V87', 'V88', 'V89', 'V91', 'V97', 'V98', 'V99', 'V100', 'V101', 'V102', 'V103', 'V105', 'V106', 'V111', 'V112', 'V113', 'V114', 'V115', 'V117', 'V118', 'V121', 'V123', 'V126', 'V127', 'V130', 'V131', 'V132', 'V134', 'V136', 'V282', 'V283', 'V286', 'V288', 'V290', 'V292', 'V293', 'V295', 'V297', 'V298', 'V299', 'V300', 'V302', 'V306', 'V307', 'V308', 'V309', 'V311', 'V312', 'V314', 'V319', 'V320', 'V321', 'ProductCD_H', 'ProductCD_R', 'ProductCD_other', 'card1_other', 'card2_555.0', 'card2_other', 'card4_other', 'card4_visa', 'card6_credit', 'card6_other', 'addr2_87.0', 'P_emaildomain_anonymous', 'P_emaildomain_gmail', 'P_emaildomain_hotmail', 'P_emaildomain_other', 'M1_other', 'M2_T', 'M3_other', 'M4_M0', 'M4_M1', 'M4_M2', 'M6_T']\n",
      "\n",
      "\n",
      "Score: 0.7025443074843801\n",
      "['TransactionDT', 'TransactionAmt', 'C3', 'C5', 'C7', 'C9', 'C10', 'D2', 'D3', 'D4', 'D10', 'D11', 'V2', 'V3', 'V6', 'V7', 'V8', 'V11', 'V13', 'V16', 'V17', 'V18', 'V20', 'V21', 'V24', 'V28', 'V32', 'V33', 'V34', 'V38', 'V41', 'V46', 'V47', 'V48', 'V50', 'V51', 'V54', 'V55', 'V56', 'V58', 'V59', 'V62', 'V64', 'V67', 'V68', 'V69', 'V71', 'V72', 'V73', 'V75', 'V76', 'V77', 'V78', 'V81', 'V85', 'V87', 'V91', 'V92', 'V94', 'V95', 'V96', 'V101', 'V102', 'V104', 'V106', 'V108', 'V109', 'V110', 'V112', 'V119', 'V120', 'V122', 'V124', 'V125', 'V129', 'V131', 'V133', 'V135', 'V136', 'V137', 'V279', 'V280', 'V281', 'V283', 'V284', 'V287', 'V288', 'V290', 'V291', 'V292', 'V294', 'V295', 'V299', 'V300', 'V301', 'V305', 'V308', 'V309', 'V311', 'V312', 'V313', 'V316', 'V318', 'V321', 'ProductCD_H', 'card1_other', 'card2_490.0', 'card2_555.0', 'card3_other', 'card4_mastercard', 'card4_visa', 'card6_debit', 'addr2_87.0', 'P_emaildomain_anonymous', 'M1_T', 'M3_T', 'M4_M1', 'M6_T', 'M6_other']\n",
      "\n",
      "\n",
      "---\n",
      "Score: 0.713313750002552\n",
      "CPU times: user 36min 32s, sys: 16min 18s, total: 52min 51s\n",
      "Wall time: 5h 38min 34s\n"
     ]
    }
   ],
   "source": [
    "%%time\n",
    "\n",
    "columns = optimize(benchmark, 100)"
   ]
  },
  {
   "cell_type": "markdown",
   "metadata": {},
   "source": [
    "We found the best solution from 5 independent runs of GWO algorithm. During every run we captured a different solution. For the final submission, we probably would not like to use \"the best one\", because we would like to have some variance. Maybe we can try to merge these solution together."
   ]
  },
  {
   "cell_type": "markdown",
   "metadata": {},
   "source": [
    "### Train only with selected features and evaluate on test data"
   ]
  },
  {
   "cell_type": "markdown",
   "metadata": {},
   "source": [
    "We will train the model with selected features on the whole dataset."
   ]
  },
  {
   "cell_type": "code",
   "execution_count": 8,
   "metadata": {},
   "outputs": [
    {
     "name": "stdout",
     "output_type": "stream",
     "text": [
      "Number of records:\n",
      "  x_train - 472432\n",
      "  y_train - 472432\n",
      "  x_test - 118108\n",
      "  y_test - 118108\n"
     ]
    }
   ],
   "source": [
    "x_train, y_train, x_test, y_test = load_processed_data()"
   ]
  },
  {
   "cell_type": "markdown",
   "metadata": {},
   "source": [
    "Train classifier with selected features."
   ]
  },
  {
   "cell_type": "code",
   "execution_count": 9,
   "metadata": {},
   "outputs": [
    {
     "name": "stdout",
     "output_type": "stream",
     "text": [
      "CPU times: user 35.5 s, sys: 579 ms, total: 36.1 s\n",
      "Wall time: 36.5 s\n"
     ]
    }
   ],
   "source": [
    "%%time\n",
    "\n",
    "clf = model_fn()\n",
    "clf = clf.fit(x_train[columns], y_train)"
   ]
  },
  {
   "cell_type": "markdown",
   "metadata": {},
   "source": [
    "Evaluate trained model."
   ]
  },
  {
   "cell_type": "code",
   "execution_count": 10,
   "metadata": {},
   "outputs": [
    {
     "name": "stdout",
     "output_type": "stream",
     "text": [
      "\u001b[1mnot fraud\u001b[0m\n",
      "precision: 0.9794846574043173\n",
      "recall: 0.98235755242969\n",
      "f1-score: 0.9809190014028206\n",
      "support: 113533\n",
      "\n",
      "\n",
      "\u001b[1mis fraud\u001b[0m\n",
      "precision: 0.5278170674210279\n",
      "recall: 0.4893989071038251\n",
      "f1-score: 0.5078824997164568\n",
      "support: 4575\n",
      "\n",
      "\n",
      "accuracy: 0.9632624377688218\n",
      "\n",
      "\n",
      "\u001b[1mmacro avg\u001b[0m\n",
      "precision: 0.7536508624126725\n",
      "recall: 0.7358782297667575\n",
      "f1-score: 0.7444007505596387\n",
      "support: 118108\n",
      "\n",
      "\n",
      "\u001b[1mweighted avg\u001b[0m\n",
      "precision: 0.9619889820548614\n",
      "recall: 0.9632624377688218\n",
      "f1-score: 0.9625955855866599\n",
      "support: 118108\n",
      "\n",
      "\n",
      "\u001b[1mArea Under the Receiver Operating Characteristic Curve (ROC AUC)\u001b[0m\n",
      "micro: 0.7536508624126727\n",
      "macro: 0.7536508624126727\n",
      "samples: 0.7536508624126727\n",
      "weighted: 0.7536508624126727\n",
      "\n",
      "\n",
      "CPU times: user 572 ms, sys: 8.53 ms, total: 580 ms\n",
      "Wall time: 640 ms\n"
     ]
    },
    {
     "data": {
      "image/png": "[encoded data removed]",
      "text/plain": [
       "<Figure size 432x288 with 2 Axes>"
      ]
     },
     "metadata": {
      "needs_background": "light"
     },
     "output_type": "display_data"
    }
   ],
   "source": [
    "%%time\n",
    "\n",
    "custom_classification_report(clf, x_test[columns], y_test)"
   ]
  }
 ],
 "metadata": {
  "kernelspec": {
   "display_name": "Python 3",
   "language": "python",
   "name": "python3"
  },
  "language_info": {
   "codemirror_mode": {
    "name": "ipython",
    "version": 3
   },
   "file_extension": ".py",
   "mimetype": "text/x-python",
   "name": "python",
   "nbconvert_exporter": "python",
   "pygments_lexer": "ipython3",
   "version": "3.7.6"
  }
 },
 "nbformat": 4,
 "nbformat_minor": 4
}
