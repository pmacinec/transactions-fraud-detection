{
 "cells": [
  {
   "cell_type": "markdown",
   "metadata": {},
   "source": [
    "# Transactions Fraud Detection\n",
    "\n",
    "**Authors:** [Peter Macinec](https://github.com/pmacinec), [Timotej Zatko](https://github.com/timzatko)"
   ]
  },
  {
   "cell_type": "markdown",
   "metadata": {},
   "source": [
    "## Prototype #1 Grey Wolf Algorithm Application on Decision Tree Classifier"
   ]
  },
  {
   "cell_type": "code",
   "execution_count": 1,
   "metadata": {},
   "outputs": [],
   "source": [
    "%load_ext autoreload\n",
    "%autoreload 2"
   ]
  },
  {
   "cell_type": "code",
   "execution_count": 7,
   "metadata": {},
   "outputs": [],
   "source": [
    "import sys\n",
    "sys.path.append('..')\n",
    "\n",
    "from sklearn.model_selection import train_test_split\n",
    "from sklearn.metrics import roc_auc_score\n",
    "from sklearn.tree import DecisionTreeClassifier\n",
    "\n",
    "from NiaPy.task import StoppingTask, OptimizationType\n",
    "from NiaPy.algorithms.basic import GreyWolfOptimizer\n",
    "\n",
    "from src.algorithms.gray_wolf_optimizer_multiprocessing import GreyWolfOptimizerMultiprocessing\n",
    "\n",
    "from src.dataset import load_processed_data\n",
    "from src.evaluation import custom_classification_report\n",
    "\n",
    "from src.classification_benchmark import ClassificationBenchmark"
   ]
  },
  {
   "cell_type": "markdown",
   "metadata": {},
   "source": [
    "### Load the data"
   ]
  },
  {
   "cell_type": "code",
   "execution_count": 3,
   "metadata": {},
   "outputs": [
    {
     "name": "stdout",
     "output_type": "stream",
     "text": [
      "Number of records:\n",
      "  x_train - 4724\n",
      "  y_train - 4724\n",
      "  x_test - 1181\n",
      "  y_test - 1181\n",
      "CPU times: user 57.7 s, sys: 6.22 s, total: 1min 3s\n",
      "Wall time: 1min 20s\n"
     ]
    }
   ],
   "source": [
    "%%time\n",
    "\n",
    "x_train, y_train, _, _ = load_processed_data(frac=0.01)"
   ]
  },
  {
   "cell_type": "markdown",
   "metadata": {},
   "source": [
    "### Setup classification benchmark"
   ]
  },
  {
   "cell_type": "code",
   "execution_count": 4,
   "metadata": {},
   "outputs": [],
   "source": [
    "def model_fn():\n",
    "    return DecisionTreeClassifier(random_state=42)"
   ]
  },
  {
   "cell_type": "code",
   "execution_count": 5,
   "metadata": {},
   "outputs": [],
   "source": [
    "columns_count = len(x_train.columns)\n",
    "\n",
    "_x_train, _x_val, _y_train, _y_val = train_test_split(x_train, y_train, test_size=0.2, random_state=42)\n",
    "\n",
    "benchmark = ClassificationBenchmark(\n",
    "    model_fn,\n",
    "    roc_auc_score,\n",
    "    _x_train,\n",
    "    _y_train,\n",
    "    _x_val,\n",
    "    _y_val\n",
    ")"
   ]
  },
  {
   "cell_type": "markdown",
   "metadata": {},
   "source": [
    "### Find optimal features"
   ]
  },
  {
   "cell_type": "code",
   "execution_count": 9,
   "metadata": {},
   "outputs": [],
   "source": [
    "def optimize(benchmark, nGEN):\n",
    "    \"\"\"\n",
    "    Optimize task with GWO optimizer.\n",
    "    \n",
    "    :param benchmark: NiaPy.Benchmark to optimize\n",
    "    :param nGEN: number of generations\n",
    "    \"\"\"\n",
    "    \n",
    "    best_columns = None\n",
    "    best_score = 0\n",
    "    \n",
    "    for i in range(5):\n",
    "        # when using OptimizationType.MAXIMIZATION, the library will fail\n",
    "        # we use OptimizationType.MINIMIZATION instead and invert the score\n",
    "        task = StoppingTask(D=benchmark.get_length(), nGEN=nGEN, optType=OptimizationType.MINIMIZATION, benchmark=benchmark)\n",
    "        algo = GreyWolfOptimizer(NP=25)\n",
    "        # algo = GreyWolfOptimizerMultiprocessing(NP=25)\n",
    "        solution_vec, score = algo.run(task=task)    \n",
    "        \n",
    "        # invert the score\n",
    "        score = 1 - score\n",
    "        columns = benchmark.select_columns(solution_vec)\n",
    "        \n",
    "        print(f'Score: {score}')\n",
    "        print(columns)\n",
    "        print('\\n')\n",
    "        \n",
    "        if score > best_score:\n",
    "            best_score = score\n",
    "            best_columns = columns\n",
    "\n",
    "    print('---')\n",
    "    print(f'Score: {best_score}')\n",
    "            \n",
    "    return best_columns\n"
   ]
  },
  {
   "cell_type": "markdown",
   "metadata": {},
   "source": [
    "Find the optimal combination of columns."
   ]
  },
  {
   "cell_type": "code",
   "execution_count": 10,
   "metadata": {},
   "outputs": [
    {
     "name": "stdout",
     "output_type": "stream",
     "text": [
      "Score: 0.7627055833980377\n",
      "['TransactionDT', 'C1', 'C3', 'C5', 'C6', 'C7', 'C10', 'C12', 'D2', 'D4', 'D11', 'D15', 'V1', 'V2', 'V5', 'V7', 'V8', 'V10', 'V11', 'V16', 'V18', 'V19', 'V21', 'V22', 'V23', 'V24', 'V26', 'V27', 'V31', 'V32', 'V35', 'V36', 'V37', 'V39', 'V42', 'V43', 'V45', 'V47', 'V48', 'V50', 'V54', 'V56', 'V59', 'V63', 'V66', 'V68', 'V69', 'V71', 'V72', 'V73', 'V75', 'V76', 'V81', 'V83', 'V85', 'V88', 'V92', 'V93', 'V95', 'V96', 'V98', 'V101', 'V102', 'V103', 'V104', 'V106', 'V111', 'V112', 'V113', 'V115', 'V119', 'V120', 'V126', 'V131', 'V132', 'V280', 'V281', 'V283', 'V284', 'V288', 'V292', 'V294', 'V297', 'V300', 'V302', 'V303', 'V305', 'V306', 'V317', 'V318', 'ProductCD_H', 'ProductCD_R', 'ProductCD_other', 'card2_490.0', 'card2_555.0', 'card6_credit', 'card6_debit', 'addr2_other', 'M1_T', 'M2_T', 'M2_other', 'M3_T', 'M3_other', 'M6_other']\n",
      "\n",
      "\n",
      "Score: 0.7627055833980377\n",
      "['C1', 'C4', 'C5', 'C6', 'C7', 'C8', 'C11', 'C12', 'C14', 'D4', 'V1', 'V2', 'V4', 'V9', 'V12', 'V13', 'V17', 'V21', 'V22', 'V23', 'V29', 'V33', 'V39', 'V44', 'V45', 'V49', 'V53', 'V55', 'V56', 'V60', 'V64', 'V66', 'V74', 'V75', 'V76', 'V77', 'V80', 'V81', 'V82', 'V83', 'V84', 'V85', 'V87', 'V90', 'V91', 'V97', 'V99', 'V102', 'V105', 'V108', 'V110', 'V116', 'V125', 'V127', 'V128', 'V129', 'V130', 'V131', 'V132', 'V136', 'V137', 'V279', 'V280', 'V281', 'V283', 'V286', 'V287', 'V289', 'V290', 'V293', 'V294', 'V296', 'V303', 'V304', 'V306', 'V307', 'V312', 'V315', 'V319', 'card2_555.0', 'card3_other', 'card4_other', 'card4_visa', 'card6_credit', 'card6_other', 'P_emaildomain_anonymous', 'P_emaildomain_gmail', 'P_emaildomain_yahoo', 'M1_other', 'M2_T', 'M3_T', 'M4_M0', 'M4_M2', 'M6_other']\n",
      "\n",
      "\n",
      "Score: 0.7594233076868779\n",
      "['TransactionDT', 'C1', 'C3', 'C5', 'C6', 'C7', 'C10', 'C11', 'C12', 'D1', 'D15', 'V1', 'V2', 'V5', 'V6', 'V7', 'V13', 'V14', 'V16', 'V17', 'V18', 'V20', 'V22', 'V25', 'V27', 'V30', 'V31', 'V32', 'V35', 'V39', 'V41', 'V42', 'V43', 'V45', 'V48', 'V49', 'V52', 'V53', 'V54', 'V55', 'V58', 'V64', 'V66', 'V72', 'V73', 'V74', 'V75', 'V76', 'V77', 'V78', 'V84', 'V85', 'V86', 'V88', 'V90', 'V91', 'V92', 'V97', 'V104', 'V117', 'V118', 'V119', 'V120', 'V121', 'V126', 'V127', 'V129', 'V131', 'V135', 'V136', 'V280', 'V281', 'V282', 'V284', 'V292', 'V293', 'V297', 'V302', 'V303', 'V305', 'V306', 'V307', 'V309', 'V311', 'V315', 'ProductCD_H', 'ProductCD_W', 'ProductCD_other', 'card2_555.0', 'card3_other', 'card6_debit', 'addr2_87.0', 'P_emaildomain_anonymous', 'P_emaildomain_nan', 'M3_other', 'M6_other']\n",
      "\n",
      "\n",
      "Score: 0.7733641561375025\n",
      "['TransactionDT', 'TransactionAmt', 'C1', 'C5', 'C7', 'C8', 'C10', 'C11', 'D1', 'V2', 'V4', 'V5', 'V7', 'V8', 'V16', 'V17', 'V19', 'V22', 'V25', 'V29', 'V33', 'V35', 'V37', 'V38', 'V41', 'V44', 'V46', 'V48', 'V50', 'V56', 'V67', 'V71', 'V74', 'V76', 'V78', 'V79', 'V81', 'V82', 'V84', 'V85', 'V87', 'V88', 'V89', 'V92', 'V93', 'V94', 'V97', 'V99', 'V102', 'V103', 'V107', 'V108', 'V110', 'V111', 'V114', 'V115', 'V117', 'V119', 'V120', 'V121', 'V129', 'V130', 'V132', 'V134', 'V135', 'V279', 'V280', 'V281', 'V282', 'V288', 'V294', 'V295', 'V298', 'V299', 'V302', 'V305', 'V310', 'V311', 'V312', 'V313', 'V314', 'V315', 'V316', 'V317', 'V321', 'ProductCD_C', 'ProductCD_other', 'card1_other', 'card2_490.0', 'card4_other', 'card6_credit', 'card6_other', 'addr2_87.0', 'P_emaildomain_anonymous', 'P_emaildomain_hotmail', 'P_emaildomain_nan', 'P_emaildomain_other', 'M2_T', 'M2_other', 'M4_M0']\n",
      "\n",
      "\n",
      "Score: 0.7288063810263288\n",
      "['TransactionAmt', 'C7', 'C9', 'C11', 'C13', 'C14', 'D2', 'D3', 'D4', 'D11', 'V3', 'V4', 'V5', 'V6', 'V7', 'V8', 'V9', 'V10', 'V11', 'V17', 'V18', 'V26', 'V27', 'V28', 'V32', 'V33', 'V37', 'V40', 'V41', 'V42', 'V43', 'V48', 'V49', 'V61', 'V62', 'V72', 'V74', 'V78', 'V82', 'V87', 'V88', 'V95', 'V99', 'V100', 'V101', 'V102', 'V109', 'V113', 'V114', 'V116', 'V119', 'V120', 'V129', 'V136', 'V288', 'V289', 'V293', 'V294', 'V303', 'V306', 'V307', 'V309', 'V311', 'V314', 'V315', 'ProductCD_C', 'ProductCD_H', 'ProductCD_W', 'card2_other', 'card5_other', 'addr1_other', 'M1_T', 'M3_T', 'M3_other', 'M4_M1']\n",
      "\n",
      "\n",
      "---\n",
      "Score: 0.7733641561375025\n",
      "CPU times: user 2min 33s, sys: 1.68 s, total: 2min 34s\n",
      "Wall time: 2min 35s\n"
     ]
    }
   ],
   "source": [
    "%%time\n",
    "\n",
    "columns = optimize(benchmark, 10)"
   ]
  },
  {
   "cell_type": "markdown",
   "metadata": {},
   "source": [
    "We found the best solution from 5 independent runs of GWO algorithm. During every run we captured a different solution. For the final submission, we probably would not like to use \"the best one\", because we would like to have some variance. Maybe we can try to merge these solution together."
   ]
  },
  {
   "cell_type": "markdown",
   "metadata": {},
   "source": [
    "### Train only with selected features and evaluate on test data"
   ]
  },
  {
   "cell_type": "markdown",
   "metadata": {},
   "source": [
    "We will train the model with selected features on the whole dataset."
   ]
  },
  {
   "cell_type": "code",
   "execution_count": 11,
   "metadata": {},
   "outputs": [
    {
     "name": "stdout",
     "output_type": "stream",
     "text": [
      "Number of records:\n",
      "  x_train - 472432\n",
      "  y_train - 472432\n",
      "  x_test - 118108\n",
      "  y_test - 118108\n"
     ]
    }
   ],
   "source": [
    "x_train, y_train, x_test, y_test = load_processed_data()"
   ]
  },
  {
   "cell_type": "markdown",
   "metadata": {},
   "source": [
    "Train classifier with selected features."
   ]
  },
  {
   "cell_type": "code",
   "execution_count": 12,
   "metadata": {},
   "outputs": [
    {
     "name": "stdout",
     "output_type": "stream",
     "text": [
      "CPU times: user 36 s, sys: 1.3 s, total: 37.3 s\n",
      "Wall time: 37.4 s\n"
     ]
    }
   ],
   "source": [
    "%%time\n",
    "\n",
    "clf = model_fn()\n",
    "clf = clf.fit(x_train[columns], y_train)"
   ]
  },
  {
   "cell_type": "markdown",
   "metadata": {},
   "source": [
    "Evaluate trained model."
   ]
  },
  {
   "cell_type": "code",
   "execution_count": 13,
   "metadata": {},
   "outputs": [
    {
     "name": "stdout",
     "output_type": "stream",
     "text": [
      "\u001b[1mnot fraud\u001b[0m\n",
      "precision: 0.9804243584564313\n",
      "recall: 0.981985310287197\n",
      "f1-score: 0.981204213560916\n",
      "support: 113685\n",
      "\n",
      "\n",
      "\u001b[1mis fraud\u001b[0m\n",
      "precision: 0.5172088637435172\n",
      "recall: 0.49604340945059916\n",
      "f1-score: 0.5064050778995961\n",
      "support: 4423\n",
      "\n",
      "\n",
      "accuracy: 0.9637873810410811\n",
      "\n",
      "\n",
      "\u001b[1mmacro avg\u001b[0m\n",
      "precision: 0.7488166110999742\n",
      "recall: 0.7390143598688981\n",
      "f1-score: 0.7438046457302561\n",
      "support: 118108\n",
      "\n",
      "\n",
      "\u001b[1mweighted avg\u001b[0m\n",
      "precision: 0.9630775052956358\n",
      "recall: 0.9637873810410811\n",
      "f1-score: 0.9634235672284913\n",
      "support: 118108\n",
      "\n",
      "\n",
      "\u001b[1mArea Under the Receiver Operating Characteristic Curve (ROC AUC)\u001b[0m\n",
      "micro: 0.7488166110999742\n",
      "macro: 0.7488166110999742\n",
      "samples: 0.7488166110999742\n",
      "weighted: 0.7488166110999742\n",
      "\n",
      "\n",
      "CPU times: user 1.02 s, sys: 16.3 ms, total: 1.03 s\n",
      "Wall time: 1.02 s\n"
     ]
    },
    {
     "data": {
      "image/png": "[encoded data removed]",
      "text/plain": [
       "<Figure size 432x288 with 2 Axes>"
      ]
     },
     "metadata": {
      "needs_background": "light"
     },
     "output_type": "display_data"
    }
   ],
   "source": [
    "%%time\n",
    "\n",
    "custom_classification_report(clf, x_test[columns], y_test)"
   ]
  }
 ],
 "metadata": {
  "kernelspec": {
   "display_name": "Python 3",
   "language": "python",
   "name": "python3"
  },
  "language_info": {
   "codemirror_mode": {
    "name": "ipython",
    "version": 3
   },
   "file_extension": ".py",
   "mimetype": "text/x-python",
   "name": "python",
   "nbconvert_exporter": "python",
   "pygments_lexer": "ipython3",
   "version": "3.7.6"
  }
 },
 "nbformat": 4,
 "nbformat_minor": 4
}
