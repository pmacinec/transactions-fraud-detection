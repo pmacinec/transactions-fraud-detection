{
 "cells": [
  {
   "cell_type": "markdown",
   "metadata": {},
   "source": [
    "# Transactions Fraud Detection\n",
    "\n",
    "**Authors:** [Peter Macinec](https://github.com/pmacinec), [Timotej Zatko](https://github.com/timzatko)"
   ]
  },
  {
   "cell_type": "markdown",
   "metadata": {},
   "source": [
    "## Prototype #1 Grey Wolf Algorithm Application on Decision Tree Classifier"
   ]
  },
  {
   "cell_type": "code",
   "execution_count": 1,
   "metadata": {},
   "outputs": [],
   "source": [
    "%load_ext autoreload\n",
    "%autoreload 2"
   ]
  },
  {
   "cell_type": "code",
   "execution_count": 2,
   "metadata": {},
   "outputs": [],
   "source": [
    "import sys\n",
    "sys.path.append('..')\n",
    "\n",
    "from sklearn.model_selection import train_test_split\n",
    "from sklearn.metrics import roc_auc_score\n",
    "from sklearn.tree import DecisionTreeClassifier\n",
    "\n",
    "from NiaPy.task import StoppingTask, OptimizationType\n",
    "from NiaPy.algorithms.basic import GreyWolfOptimizer\n",
    "\n",
    "from src.dataset import load_processed_data\n",
    "from src.evaluation import custom_classification_report\n",
    "\n",
    "from src.classification_benchmark import ClassificationBenchmark"
   ]
  },
  {
   "cell_type": "markdown",
   "metadata": {},
   "source": [
    "### Load the data"
   ]
  },
  {
   "cell_type": "code",
   "execution_count": 3,
   "metadata": {},
   "outputs": [
    {
     "name": "stdout",
     "output_type": "stream",
     "text": [
      "Number of records:\n",
      "  x_train - 4724\n",
      "  y_train - 4724\n",
      "  x_test - 1181\n",
      "  y_test - 1181\n",
      "CPU times: user 34 s, sys: 2.95 s, total: 36.9 s\n",
      "Wall time: 48.5 s\n"
     ]
    }
   ],
   "source": [
    "%%time\n",
    "\n",
    "x_train, y_train, _, _ = load_processed_data(frac=0.01)"
   ]
  },
  {
   "cell_type": "markdown",
   "metadata": {},
   "source": [
    "### Setup classification benchmark"
   ]
  },
  {
   "cell_type": "code",
   "execution_count": 4,
   "metadata": {},
   "outputs": [],
   "source": [
    "def model_fn():\n",
    "    return DecisionTreeClassifier(random_state=42)"
   ]
  },
  {
   "cell_type": "code",
   "execution_count": 5,
   "metadata": {},
   "outputs": [],
   "source": [
    "columns_count = len(x_train.columns)\n",
    "\n",
    "_x_train, _x_val, _y_train, _y_val = train_test_split(x_train, y_train, test_size=0.2, random_state=42)\n",
    "\n",
    "benchmark = ClassificationBenchmark(\n",
    "    model_fn,\n",
    "    roc_auc_score,\n",
    "    _x_train,\n",
    "    _y_train,\n",
    "    _x_val,\n",
    "    _y_val\n",
    ")"
   ]
  },
  {
   "cell_type": "markdown",
   "metadata": {},
   "source": [
    "### Find optimal features"
   ]
  },
  {
   "cell_type": "code",
   "execution_count": 8,
   "metadata": {},
   "outputs": [],
   "source": [
    "def optimize(benchmark, nGEN):\n",
    "    \"\"\"\n",
    "    Optimize task with GWO optimizer.\n",
    "    \n",
    "    :param benchmark: NiaPy.Benchmark to optimize\n",
    "    :param nGEN: number of generations\n",
    "    \"\"\"\n",
    "    \n",
    "    best_columns = None\n",
    "    best_score = 0\n",
    "    \n",
    "    for i in range(5):\n",
    "        # when using OptimizationType.MAXIMIZATION, the library will fail\n",
    "        # we use OptimizationType.MINIMIZATION instead and invert the score\n",
    "        task = StoppingTask(D=benchmark.get_length(), nGEN=nGEN, optType=OptimizationType.MINIMIZATION, benchmark=benchmark)\n",
    "        algo = GreyWolfOptimizer(NP=25)\n",
    "        solution_vec, score = algo.run(task=task)    \n",
    "        \n",
    "        # invert the score\n",
    "        score = 1 - score\n",
    "        columns = benchmark.select_columns(solution_vec)\n",
    "        \n",
    "        print(f'Score: {score}')\n",
    "        print(columns)\n",
    "        print('\\n')\n",
    "        \n",
    "        if score > best_score:\n",
    "            best_score = score\n",
    "            best_columns = columns\n",
    "\n",
    "    print('---')\n",
    "    print(f'Score: {best_score}')\n",
    "            \n",
    "    return best_columns"
   ]
  },
  {
   "cell_type": "markdown",
   "metadata": {},
   "source": [
    "Find the optimal combination of columns."
   ]
  },
  {
   "cell_type": "code",
   "execution_count": 9,
   "metadata": {},
   "outputs": [
    {
     "name": "stdout",
     "output_type": "stream",
     "text": [
      "Score: 0.8222982988635561\n",
      "['TransactionDT', 'C1', 'C3', 'C4', 'C5', 'C7', 'C8', 'C10', 'D3', 'D4', 'D10', 'V4', 'V9', 'V12', 'V14', 'V21', 'V24', 'V37', 'V39', 'V45', 'V50', 'V52', 'V54', 'V55', 'V62', 'V64', 'V66', 'V68', 'V69', 'V71', 'V76', 'V78', 'V79', 'V81', 'V87', 'V90', 'V92', 'V96', 'V97', 'V100', 'V105', 'V108', 'V112', 'V117', 'V118', 'V121', 'V125', 'V133', 'V134', 'V137', 'V281', 'V282', 'V289', 'V291', 'V293', 'V298', 'V299', 'V302', 'V303', 'V304', 'V306', 'V309', 'V311', 'V317', 'ProductCD_C', 'ProductCD_H', 'ProductCD_other', 'card1_other', 'card4_other', 'M1_T', 'M3_other']\n",
      "\n",
      "\n",
      "Score: 0.8121867720759511\n",
      "['C1', 'C3', 'C5', 'C7', 'C8', 'C11', 'D4', 'D10', 'V4', 'V8', 'V10', 'V13', 'V14', 'V15', 'V16', 'V17', 'V18', 'V20', 'V22', 'V24', 'V31', 'V33', 'V52', 'V53', 'V60', 'V64', 'V65', 'V67', 'V68', 'V70', 'V71', 'V82', 'V85', 'V87', 'V90', 'V93', 'V94', 'V98', 'V100', 'V101', 'V103', 'V104', 'V107', 'V108', 'V109', 'V110', 'V114', 'V120', 'V125', 'V128', 'V129', 'V131', 'V132', 'V280', 'V281', 'V282', 'V283', 'V284', 'V286', 'V289', 'V290', 'V292', 'V294', 'V295', 'V296', 'V298', 'V304', 'V305', 'V308', 'V313', 'V315', 'V316', 'V317', 'V318', 'V319', 'V320', 'ProductCD_H', 'ProductCD_W', 'ProductCD_other', 'card2_490.0', 'card3_other', 'card4_mastercard', 'card4_other', 'card6_credit', 'addr1_other', 'P_emaildomain_nan', 'P_emaildomain_yahoo', 'M3_other', 'M4_M2', 'M6_other']\n",
      "\n",
      "\n",
      "Score: 0.8067163125573515\n",
      "['TransactionDT', 'C1', 'C4', 'C6', 'C7', 'C8', 'C9', 'C11', 'D15', 'V20', 'V23', 'V25', 'V26', 'V39', 'V44', 'V49', 'V52', 'V55', 'V59', 'V61', 'V66', 'V77', 'V82', 'V88', 'V89', 'V92', 'V101', 'V102', 'V106', 'V108', 'V123', 'V131', 'V137', 'V279', 'V280', 'V281', 'V282', 'V290', 'V300', 'V306', 'V309', 'V311', 'V313', 'V317', 'ProductCD_H', 'card1_other', 'card2_555.0', 'card4_other', 'card5_other', 'P_emaildomain_nan', 'M2_T', 'M2_other']\n",
      "\n",
      "\n",
      "Score: 0.7976988776734665\n",
      "['C1', 'C2', 'C5', 'C7', 'C12', 'C14', 'D1', 'D10', 'D15', 'V1', 'V2', 'V17', 'V22', 'V31', 'V48', 'V50', 'V52', 'V53', 'V56', 'V59', 'V60', 'V61', 'V62', 'V71', 'V75', 'V82', 'V83', 'V95', 'V96', 'V115', 'V119', 'V121', 'V125', 'V129', 'V131', 'V132', 'V279', 'V282', 'V289', 'V292', 'V296', 'V297', 'V303', 'V304', 'V309', 'V313', 'V317', 'V321', 'ProductCD_C', 'ProductCD_R', 'card2_other', 'card3_other', 'card4_other', 'addr1_other', 'P_emaildomain_anonymous', 'M2_T', 'M3_T', 'M3_other', 'M4_M2']\n",
      "\n",
      "\n",
      "Score: 0.822845344815416\n",
      "['TransactionDT', 'C6', 'C8', 'C14', 'D4', 'D10', 'V3', 'V4', 'V7', 'V9', 'V17', 'V18', 'V20', 'V24', 'V31', 'V33', 'V46', 'V57', 'V59', 'V61', 'V64', 'V79', 'V81', 'V83', 'V84', 'V86', 'V87', 'V89', 'V96', 'V97', 'V100', 'V111', 'V117', 'V121', 'V129', 'V281', 'V287', 'V290', 'V291', 'V295', 'V300', 'V303', 'V307', 'V310', 'V311', 'V312', 'V314', 'V316', 'ProductCD_H', 'ProductCD_W', 'card1_other', 'card2_555.0', 'card2_other', 'card3_other', 'card4_visa', 'addr1_other', 'addr2_87.0', 'M2_T', 'M4_M2']\n",
      "\n",
      "\n",
      "---\n",
      "Score: 0.822845344815416\n",
      "CPU times: user 11min 10s, sys: 365 ms, total: 11min 10s\n",
      "Wall time: 11min 10s\n"
     ]
    }
   ],
   "source": [
    "%%time\n",
    "\n",
    "columns = optimize(benchmark, 100)"
   ]
  },
  {
   "cell_type": "markdown",
   "metadata": {},
   "source": [
    "We found the best solution from 5 independent runs of GWO algorithm. During every run we captured a different solution. For the final submission, we probably would not like to use \"the best one\", because we would like to have some variance. Maybe we can try to merge these solution together."
   ]
  },
  {
   "cell_type": "markdown",
   "metadata": {},
   "source": [
    "### Train only with selected features and evaluate on test data"
   ]
  },
  {
   "cell_type": "markdown",
   "metadata": {},
   "source": [
    "We will train the model with selected features on the whole dataset."
   ]
  },
  {
   "cell_type": "code",
   "execution_count": 10,
   "metadata": {},
   "outputs": [
    {
     "name": "stdout",
     "output_type": "stream",
     "text": [
      "Number of records:\n",
      "  x_train - 472432\n",
      "  y_train - 472432\n",
      "  x_test - 118108\n",
      "  y_test - 118108\n"
     ]
    }
   ],
   "source": [
    "x_train, y_train, x_test, y_test = load_processed_data()"
   ]
  },
  {
   "cell_type": "markdown",
   "metadata": {},
   "source": [
    "Train classifier with selected features."
   ]
  },
  {
   "cell_type": "code",
   "execution_count": 12,
   "metadata": {},
   "outputs": [
    {
     "name": "stdout",
     "output_type": "stream",
     "text": [
      "CPU times: user 14.9 s, sys: 37.5 ms, total: 14.9 s\n",
      "Wall time: 14.9 s\n"
     ]
    }
   ],
   "source": [
    "%%time\n",
    "\n",
    "clf = model_fn()\n",
    "clf = clf.fit(x_train[columns], y_train)"
   ]
  },
  {
   "cell_type": "markdown",
   "metadata": {},
   "source": [
    "Evaluate trained model."
   ]
  },
  {
   "cell_type": "code",
   "execution_count": 13,
   "metadata": {},
   "outputs": [
    {
     "name": "stdout",
     "output_type": "stream",
     "text": [
      "\u001b[1mnot fraud\u001b[0m\n",
      "precision: 0.9774296102436197\n",
      "recall: 0.9806246971232213\n",
      "f1-score: 0.9790245468659973\n",
      "support: 113495\n",
      "\n",
      "\n",
      "\u001b[1mis fraud\u001b[0m\n",
      "precision: 0.4816124469589816\n",
      "recall: 0.4428788207240408\n",
      "f1-score: 0.4614342179559571\n",
      "support: 4613\n",
      "\n",
      "\n",
      "accuracy: 0.9596217021708945\n",
      "\n",
      "\n",
      "\u001b[1mmacro avg\u001b[0m\n",
      "precision: 0.7295210286013006\n",
      "recall: 0.7117517589236311\n",
      "f1-score: 0.7202293824109772\n",
      "support: 118108\n",
      "\n",
      "\n",
      "\u001b[1mweighted avg\u001b[0m\n",
      "precision: 0.958064244864204\n",
      "recall: 0.9596217021708945\n",
      "f1-score: 0.9588087766619298\n",
      "support: 118108\n",
      "\n",
      "\n",
      "\u001b[1mArea Under the Receiver Operating Characteristic Curve (ROC AUC)\u001b[0m\n",
      "micro: 0.7295210286013006\n",
      "macro: 0.7295210286013006\n",
      "samples: 0.7295210286013006\n",
      "weighted: 0.7295210286013006\n",
      "\n",
      "\n",
      "CPU times: user 670 ms, sys: 8.19 ms, total: 678 ms\n",
      "Wall time: 684 ms\n"
     ]
    },
    {
     "data": {
      "image/png": "[encoded data removed]",
      "text/plain": [
       "<Figure size 432x288 with 2 Axes>"
      ]
     },
     "metadata": {
      "needs_background": "light"
     },
     "output_type": "display_data"
    }
   ],
   "source": [
    "%%time\n",
    "\n",
    "custom_classification_report(clf, x_test[columns], y_test)"
   ]
  }
 ],
 "metadata": {
  "kernelspec": {
   "display_name": "Python 3",
   "language": "python",
   "name": "python3"
  },
  "language_info": {
   "codemirror_mode": {
    "name": "ipython",
    "version": 3
   },
   "file_extension": ".py",
   "mimetype": "text/x-python",
   "name": "python",
   "nbconvert_exporter": "python",
   "pygments_lexer": "ipython3",
   "version": "3.7.6"
  }
 },
 "nbformat": 4,
 "nbformat_minor": 4
}
