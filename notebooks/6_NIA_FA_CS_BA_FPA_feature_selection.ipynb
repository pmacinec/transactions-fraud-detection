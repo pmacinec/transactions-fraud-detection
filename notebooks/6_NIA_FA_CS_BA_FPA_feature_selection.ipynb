{
 "cells": [
  {
   "cell_type": "markdown",
   "metadata": {},
   "source": [
    "# Transactions Fraud Detection\n",
    "\n",
    "**Authors:** [Peter Macinec](https://github.com/pmacinec), [Timotej Zatko](https://github.com/timzatko)"
   ]
  },
  {
   "cell_type": "markdown",
   "metadata": {},
   "source": [
    "## Nature Inspired Algorithms - Firefly Algorithm, Cuckoo Search Algorithm, Bat Algorithm, Flower Pollination Algorithm for Feature Selection\n",
    "\n",
    "We will train the model with selected features on the whole dataset. With the following algorithm from Xin-She Yang.\n",
    "\n",
    "- Firefly Algorithm\n",
    "- Cuckoo Search Algorithm\n",
    "- Bat Algorithm\n",
    "- Flower Pollination Algorithm"
   ]
  },
  {
   "cell_type": "code",
   "execution_count": null,
   "metadata": {},
   "outputs": [],
   "source": [
    "%load_ext autoreload\n",
    "%autoreload 2"
   ]
  },
  {
   "cell_type": "code",
   "execution_count": null,
   "metadata": {},
   "outputs": [],
   "source": [
    "import sys\n",
    "sys.path.append('..')\n",
    "\n",
    "from sklearn.model_selection import train_test_split\n",
    "from sklearn.metrics import roc_auc_score\n",
    "from sklearn.tree import DecisionTreeClassifier\n",
    "\n",
    "from NiaPy.task import StoppingTask, OptimizationType\n",
    "from NiaPy.algorithms.basic import FireflyAlgorithm, CuckooSearch, \\\n",
    "    BatAlgorithm, FlowerPollinationAlgorithm\n",
    "\n",
    "from src.dataset import load_processed_data\n",
    "from src.data_balancing import random_undersample\n",
    "from src.evaluation import custom_classification_report\n",
    "\n",
    "from src.classification_benchmark import ClassificationBenchmark"
   ]
  },
  {
   "cell_type": "markdown",
   "metadata": {},
   "source": [
    "### Load the data"
   ]
  },
  {
   "cell_type": "code",
   "execution_count": null,
   "metadata": {},
   "outputs": [],
   "source": [
    "x_train, y_train, x_test, y_test = load_processed_data()"
   ]
  },
  {
   "cell_type": "code",
   "execution_count": null,
   "metadata": {},
   "outputs": [],
   "source": [
    "x_train, y_train = random_undersample(x_train, y_train)\n",
    "len(x_train), len(y_train)"
   ]
  },
  {
   "cell_type": "markdown",
   "metadata": {},
   "source": [
    "### Setup classification benchmark"
   ]
  },
  {
   "cell_type": "code",
   "execution_count": null,
   "metadata": {},
   "outputs": [],
   "source": [
    "def model_fn():\n",
    "    return DecisionTreeClassifier(random_state=42)"
   ]
  },
  {
   "cell_type": "code",
   "execution_count": null,
   "metadata": {},
   "outputs": [],
   "source": [
    "columns_count = len(x_train.columns)\n",
    "\n",
    "_x_train, _x_val, _y_train, _y_val = train_test_split(x_train, y_train, test_size=0.2, random_state=42)\n",
    "\n",
    "benchmark = ClassificationBenchmark(\n",
    "    model_fn,\n",
    "    roc_auc_score,\n",
    "    _x_train,\n",
    "    _y_train,\n",
    "    _x_val,\n",
    "    _y_val\n",
    ")"
   ]
  },
  {
   "cell_type": "code",
   "execution_count": null,
   "metadata": {},
   "outputs": [],
   "source": [
    "def optimize(benchmark, algorithm, nGEN, num_runs = 5):\n",
    "    \"\"\"\n",
    "    Optimize task with provided algorithm.\n",
    "    \n",
    "    :param benchmark: NiaPy.Benchmark to optimize.\n",
    "    :param algorithm: algorithm object to use for optimization task.\n",
    "    :param nGEN: number of generations.\n",
    "    :param num_runs: number of algorithm runs (defaults to 5).\n",
    "    \"\"\"\n",
    "    best_columns = None\n",
    "    best_score = 0\n",
    "    \n",
    "    for i in range(num_runs):\n",
    "        # when using OptimizationType.MAXIMIZATION, the library will fail\n",
    "        # we use OptimizationType.MINIMIZATION instead and invert the score\n",
    "        task = StoppingTask(\n",
    "            D=benchmark.get_length(),\n",
    "            nGEN=nGEN,\n",
    "            optType=OptimizationType.MINIMIZATION,\n",
    "            benchmark=benchmark\n",
    "        )\n",
    "        \n",
    "        solution_vec, score = algorithm.run(task=task)    \n",
    "        \n",
    "        # invert the score\n",
    "        score = 1 - score\n",
    "        columns = benchmark.select_columns(solution_vec)\n",
    "        \n",
    "        print('--------------')\n",
    "        print(f'Run {i + 1}')\n",
    "        print('--------------')\n",
    "        print(f'Score: {score}')\n",
    "        print(f'Number of features selected: {len(columns)}\\n')\n",
    "        print('\\n')\n",
    "        \n",
    "        if score > best_score:\n",
    "            best_score = score\n",
    "            best_columns = columns\n",
    "\n",
    "    print(f'\\nBest score of {num_runs} runs: {best_score}')\n",
    "    print(f'Number of features selected: {len(best_columns)}')\n",
    "            \n",
    "    return best_columns"
   ]
  },
  {
   "cell_type": "markdown",
   "metadata": {},
   "source": [
    "### Firefly Algorithm (FA)"
   ]
  },
  {
   "cell_type": "code",
   "execution_count": null,
   "metadata": {},
   "outputs": [],
   "source": [
    "%%time\n",
    "\n",
    "columns = optimize(benchmark, FireflyAlgorithm(), 100)"
   ]
  },
  {
   "cell_type": "code",
   "execution_count": null,
   "metadata": {},
   "outputs": [],
   "source": [
    "clf = model_fn()\n",
    "clf = clf.fit(x_train[columns], y_train)\n",
    "custom_classification_report(clf, x_test[columns], y_test)"
   ]
  },
  {
   "cell_type": "markdown",
   "metadata": {},
   "source": [
    "### Cuckoo Search Algorithm (CS)"
   ]
  },
  {
   "cell_type": "code",
   "execution_count": null,
   "metadata": {},
   "outputs": [],
   "source": [
    "%%time\n",
    "\n",
    "columns = optimize(benchmark, CuckooSearch(), 100)"
   ]
  },
  {
   "cell_type": "code",
   "execution_count": null,
   "metadata": {},
   "outputs": [],
   "source": [
    "clf = model_fn()\n",
    "clf = clf.fit(x_train[columns], y_train)\n",
    "custom_classification_report(clf, x_test[columns], y_test)"
   ]
  },
  {
   "cell_type": "markdown",
   "metadata": {},
   "source": [
    "### Flower Pollination Algorithm (FPA)"
   ]
  },
  {
   "cell_type": "code",
   "execution_count": null,
   "metadata": {},
   "outputs": [],
   "source": [
    "%%time\n",
    "\n",
    "columns = optimize(benchmark, FlowerPollinationAlgorithm(), 100)"
   ]
  },
  {
   "cell_type": "code",
   "execution_count": null,
   "metadata": {},
   "outputs": [],
   "source": [
    "clf = model_fn()\n",
    "clf = clf.fit(x_train[columns], y_train)\n",
    "custom_classification_report(clf, x_test[columns], y_test)"
   ]
  },
  {
   "cell_type": "markdown",
   "metadata": {},
   "source": [
    "### Bat Algorithm (BA)"
   ]
  },
  {
   "cell_type": "code",
   "execution_count": null,
   "metadata": {},
   "outputs": [],
   "source": [
    "%%time\n",
    "\n",
    "columns = optimize(benchmark, BatAlgorithm(), 100)"
   ]
  },
  {
   "cell_type": "code",
   "execution_count": null,
   "metadata": {},
   "outputs": [],
   "source": [
    "clf = model_fn()\n",
    "clf = clf.fit(x_train[columns], y_train)\n",
    "custom_classification_report(clf, x_test[columns], y_test)"
   ]
  },
  {
   "cell_type": "markdown",
   "metadata": {},
   "source": [
    "### Conclusion"
   ]
  },
  {
   "cell_type": "code",
   "execution_count": null,
   "metadata": {},
   "outputs": [],
   "source": [
    "TODO"
   ]
  }
 ],
 "metadata": {
  "kernelspec": {
   "display_name": "Python 3",
   "language": "python",
   "name": "python3"
  },
  "language_info": {
   "codemirror_mode": {
    "name": "ipython",
    "version": 3
   },
   "file_extension": ".py",
   "mimetype": "text/x-python",
   "name": "python",
   "nbconvert_exporter": "python",
   "pygments_lexer": "ipython3",
   "version": "3.7.6"
  }
 },
 "nbformat": 4,
 "nbformat_minor": 4
}
