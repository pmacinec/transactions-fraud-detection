{
 "cells": [
  {
   "cell_type": "markdown",
   "metadata": {},
   "source": [
    "# Transactions Fraud Detection\n",
    "\n",
    "**Authors:** [Peter Macinec](https://github.com/pmacinec), [Timotej Zatko](https://github.com/timzatko)"
   ]
  },
  {
   "cell_type": "markdown",
   "metadata": {},
   "source": [
    "## Nature Inspired Algorithms - Firefly Algorithm, Cuckoo Search Algorithm, Bat Algorithm, Flower Pollination Algorithm for Feature Selection\n",
    "\n",
    "We will train the model with selected features on the whole dataset. With the following algorithm from Xin-She Yang.\n",
    "\n",
    "- Firefly Algorithm\n",
    "- Cuckoo Search Algorithm\n",
    "- Bat Algorithm\n",
    "- Flower Pollination Algorithm"
   ]
  },
  {
   "cell_type": "code",
   "execution_count": 1,
   "metadata": {},
   "outputs": [],
   "source": [
    "%load_ext autoreload\n",
    "%autoreload 2"
   ]
  },
  {
   "cell_type": "code",
   "execution_count": 2,
   "metadata": {},
   "outputs": [],
   "source": [
    "import sys\n",
    "sys.path.append('..')\n",
    "\n",
    "from sklearn.model_selection import train_test_split\n",
    "from sklearn.metrics import roc_auc_score\n",
    "from sklearn.tree import DecisionTreeClassifier\n",
    "\n",
    "from NiaPy.task import StoppingTask, OptimizationType\n",
    "from NiaPy.algorithms.basic import FireflyAlgorithm, CuckooSearch, \\\n",
    "    BatAlgorithm, FlowerPollinationAlgorithm\n",
    "\n",
    "from src.dataset import load_processed_data\n",
    "from src.data_balancing import random_undersample\n",
    "from src.evaluation import custom_classification_report\n",
    "\n",
    "from src.classification_benchmark import ClassificationBenchmark"
   ]
  },
  {
   "cell_type": "markdown",
   "metadata": {},
   "source": [
    "### Load the data"
   ]
  },
  {
   "cell_type": "code",
   "execution_count": 3,
   "metadata": {},
   "outputs": [
    {
     "name": "stdout",
     "output_type": "stream",
     "text": [
      "Number of records:\n",
      "  x_train - 472432\n",
      "  y_train - 472432\n",
      "  x_test - 118108\n",
      "  y_test - 118108\n"
     ]
    }
   ],
   "source": [
    "x_train, y_train, x_test, y_test = load_processed_data()"
   ]
  },
  {
   "cell_type": "code",
   "execution_count": 4,
   "metadata": {},
   "outputs": [
    {
     "data": {
      "text/plain": [
       "(32842, 32842)"
      ]
     },
     "execution_count": 4,
     "metadata": {},
     "output_type": "execute_result"
    }
   ],
   "source": [
    "x_train, y_train = random_undersample(x_train, y_train)\n",
    "len(x_train), len(y_train)"
   ]
  },
  {
   "cell_type": "markdown",
   "metadata": {},
   "source": [
    "### Setup classification benchmark"
   ]
  },
  {
   "cell_type": "code",
   "execution_count": 5,
   "metadata": {},
   "outputs": [],
   "source": [
    "def model_fn():\n",
    "    return DecisionTreeClassifier(random_state=42)"
   ]
  },
  {
   "cell_type": "code",
   "execution_count": 6,
   "metadata": {},
   "outputs": [],
   "source": [
    "columns_count = len(x_train.columns)\n",
    "\n",
    "_x_train, _x_val, _y_train, _y_val = train_test_split(x_train, y_train, test_size=0.2, random_state=42)\n",
    "\n",
    "benchmark = ClassificationBenchmark(\n",
    "    model_fn,\n",
    "    roc_auc_score,\n",
    "    _x_train,\n",
    "    _y_train,\n",
    "    _x_val,\n",
    "    _y_val\n",
    ")"
   ]
  },
  {
   "cell_type": "code",
   "execution_count": 7,
   "metadata": {},
   "outputs": [],
   "source": [
    "def optimize(benchmark, algorithm, nGEN, num_runs = 5):\n",
    "    \"\"\"\n",
    "    Optimize task with provided algorithm.\n",
    "    \n",
    "    :param benchmark: NiaPy.Benchmark to optimize.\n",
    "    :param algorithm: algorithm object to use for optimization task.\n",
    "    :param nGEN: number of generations.\n",
    "    :param num_runs: number of algorithm runs (defaults to 5).\n",
    "    \"\"\"\n",
    "    best_columns = None\n",
    "    best_score = 0\n",
    "    \n",
    "    for i in range(num_runs):\n",
    "        # when using OptimizationType.MAXIMIZATION, the library will fail\n",
    "        # we use OptimizationType.MINIMIZATION instead and invert the score\n",
    "        task = StoppingTask(\n",
    "            D=benchmark.get_length(),\n",
    "            nGEN=nGEN,\n",
    "            optType=OptimizationType.MINIMIZATION,\n",
    "            benchmark=benchmark\n",
    "        )\n",
    "        \n",
    "        solution_vec, score = algorithm.run(task=task)    \n",
    "        \n",
    "        # invert the score\n",
    "        score = 1 - score\n",
    "        columns = benchmark.select_columns(solution_vec)\n",
    "        \n",
    "        print('--------------')\n",
    "        print(f'Run {i + 1}')\n",
    "        print('--------------')\n",
    "        print(f'Score: {score}')\n",
    "        print(f'Number of features selected: {len(columns)}\\n')\n",
    "        print('\\n')\n",
    "        \n",
    "        if score > best_score:\n",
    "            best_score = score\n",
    "            best_columns = columns\n",
    "\n",
    "    print(f'\\nBest score of {num_runs} runs: {best_score}')\n",
    "    print(f'Number of features selected: {len(best_columns)}')\n",
    "            \n",
    "    return best_columns"
   ]
  },
  {
   "cell_type": "markdown",
   "metadata": {},
   "source": [
    "### Firefly Algorithm (FA)"
   ]
  },
  {
   "cell_type": "code",
   "execution_count": 8,
   "metadata": {},
   "outputs": [
    {
     "name": "stdout",
     "output_type": "stream",
     "text": [
      "--------------\n",
      "Run 1\n",
      "--------------\n",
      "Score: 0.80258573298138\n",
      "Number of features selected: 129\n",
      "\n",
      "\n",
      "\n",
      "--------------\n",
      "Run 2\n",
      "--------------\n",
      "Score: 0.7992984117586835\n",
      "Number of features selected: 123\n",
      "\n",
      "\n",
      "\n",
      "--------------\n",
      "Run 3\n",
      "--------------\n",
      "Score: 0.8028966782550118\n",
      "Number of features selected: 124\n",
      "\n",
      "\n",
      "\n",
      "--------------\n",
      "Run 4\n",
      "--------------\n",
      "Score: 0.8025539707516696\n",
      "Number of features selected: 132\n",
      "\n",
      "\n",
      "\n",
      "--------------\n",
      "Run 5\n",
      "--------------\n",
      "Score: 0.8021858534645591\n",
      "Number of features selected: 128\n",
      "\n",
      "\n",
      "\n",
      "\n",
      "Best score of 5 runs: 0.8028966782550118\n",
      "Number of features selected: 124\n",
      "CPU times: user 1h 53min 40s, sys: 664 ms, total: 1h 53min 40s\n",
      "Wall time: 1h 53min 41s\n"
     ]
    }
   ],
   "source": [
    "%%time\n",
    "\n",
    "columns = optimize(benchmark, FireflyAlgorithm(), 100)"
   ]
  },
  {
   "cell_type": "code",
   "execution_count": 9,
   "metadata": {},
   "outputs": [
    {
     "name": "stdout",
     "output_type": "stream",
     "text": [
      "\u001b[1mnot fraud\u001b[0m\n",
      "precision: 0.7940473890362356\n",
      "recall: 0.9897538067454106\n",
      "f1-score: 0.8811648157803691\n",
      "support: 91351\n",
      "\n",
      "\n",
      "\u001b[1mis fraud\u001b[0m\n",
      "precision: 0.7793493635077794\n",
      "recall: 0.12355645251709833\n",
      "f1-score: 0.21329720313558503\n",
      "support: 26757\n",
      "\n",
      "\n",
      "accuracy: 0.7935194906356894\n",
      "\n",
      "\n",
      "\u001b[1mmacro avg\u001b[0m\n",
      "precision: 0.7866983762720074\n",
      "recall: 0.5566551296312544\n",
      "f1-score: 0.5472310094579771\n",
      "support: 118108\n",
      "\n",
      "\n",
      "\u001b[1mweighted avg\u001b[0m\n",
      "precision: 0.7907175970740915\n",
      "recall: 0.7935194906356894\n",
      "f1-score: 0.7298614856796437\n",
      "support: 118108\n",
      "\n",
      "\n",
      "\u001b[1mArea Under the Receiver Operating Characteristic Curve (ROC AUC)\u001b[0m\n",
      "Score: 0.7866983762720074\n",
      "\n",
      "\n"
     ]
    },
    {
     "data": {
      "image/png": "[encoded data removed]",
      "text/plain": [
       "<Figure size 432x288 with 2 Axes>"
      ]
     },
     "metadata": {
      "needs_background": "light"
     },
     "output_type": "display_data"
    }
   ],
   "source": [
    "clf = model_fn()\n",
    "clf = clf.fit(x_train[columns], y_train)\n",
    "custom_classification_report(clf, x_test[columns], y_test)"
   ]
  },
  {
   "cell_type": "markdown",
   "metadata": {},
   "source": [
    "### Cuckoo Search Algorithm (CS)"
   ]
  },
  {
   "cell_type": "code",
   "execution_count": 10,
   "metadata": {},
   "outputs": [
    {
     "name": "stdout",
     "output_type": "stream",
     "text": [
      "--------------\n",
      "Run 1\n",
      "--------------\n",
      "Score: 0.7940828681673648\n",
      "Number of features selected: 223\n",
      "\n",
      "\n",
      "\n",
      "--------------\n",
      "Run 2\n",
      "--------------\n",
      "Score: 0.7996444577737617\n",
      "Number of features selected: 119\n",
      "\n",
      "\n",
      "\n",
      "--------------\n",
      "Run 3\n",
      "--------------\n",
      "Score: 0.7944536748111514\n",
      "Number of features selected: 104\n",
      "\n",
      "\n",
      "\n",
      "--------------\n",
      "Run 4\n",
      "--------------\n",
      "Score: 0.7973471443854394\n",
      "Number of features selected: 125\n",
      "\n",
      "\n",
      "\n",
      "--------------\n",
      "Run 5\n",
      "--------------\n",
      "Score: 0.7967984692552745\n",
      "Number of features selected: 132\n",
      "\n",
      "\n",
      "\n",
      "\n",
      "Best score of 5 runs: 0.7996444577737617\n",
      "Number of features selected: 119\n",
      "CPU times: user 4h 5min 19s, sys: 1.28 s, total: 4h 5min 21s\n",
      "Wall time: 4h 5min 21s\n"
     ]
    }
   ],
   "source": [
    "%%time\n",
    "\n",
    "columns = optimize(benchmark, CuckooSearch(), 100)"
   ]
  },
  {
   "cell_type": "code",
   "execution_count": 11,
   "metadata": {},
   "outputs": [
    {
     "name": "stdout",
     "output_type": "stream",
     "text": [
      "\u001b[1mnot fraud\u001b[0m\n",
      "precision: 0.8023817469657316\n",
      "recall: 0.9898591549295774\n",
      "f1-score: 0.8863149112850809\n",
      "support: 92300\n",
      "\n",
      "\n",
      "\u001b[1mis fraud\u001b[0m\n",
      "precision: 0.7793493635077794\n",
      "recall: 0.12809981401115933\n",
      "f1-score: 0.2200332778702163\n",
      "support: 25808\n",
      "\n",
      "\n",
      "accuracy: 0.8015545094320452\n",
      "\n",
      "\n",
      "\u001b[1mmacro avg\u001b[0m\n",
      "precision: 0.7908655552367555\n",
      "recall: 0.5589794844703684\n",
      "f1-score: 0.5531740945776485\n",
      "support: 118108\n",
      "\n",
      "\n",
      "\u001b[1mweighted avg\u001b[0m\n",
      "precision: 0.7973488977744589\n",
      "recall: 0.8015545094320452\n",
      "f1-score: 0.7407244652935238\n",
      "support: 118108\n",
      "\n",
      "\n",
      "\u001b[1mArea Under the Receiver Operating Characteristic Curve (ROC AUC)\u001b[0m\n",
      "Score: 0.7908655552367554\n",
      "\n",
      "\n"
     ]
    },
    {
     "data": {
      "image/png": "[encoded data removed]",
      "text/plain": [
       "<Figure size 432x288 with 2 Axes>"
      ]
     },
     "metadata": {
      "needs_background": "light"
     },
     "output_type": "display_data"
    }
   ],
   "source": [
    "clf = model_fn()\n",
    "clf = clf.fit(x_train[columns], y_train)\n",
    "custom_classification_report(clf, x_test[columns], y_test)"
   ]
  },
  {
   "cell_type": "markdown",
   "metadata": {},
   "source": [
    "### Flower Pollination Algorithm (FPA)"
   ]
  },
  {
   "cell_type": "code",
   "execution_count": 8,
   "metadata": {},
   "outputs": [
    {
     "name": "stdout",
     "output_type": "stream",
     "text": [
      "--------------\n",
      "Run 1\n",
      "--------------\n",
      "Score: 0.8010721352230793\n",
      "Number of features selected: 124\n",
      "\n",
      "\n",
      "\n",
      "--------------\n",
      "Run 2\n",
      "--------------\n",
      "Score: 0.7977500378364661\n",
      "Number of features selected: 135\n",
      "\n",
      "\n",
      "\n",
      "--------------\n",
      "Run 3\n",
      "--------------\n",
      "Score: 0.7977533763482023\n",
      "Number of features selected: 116\n",
      "\n",
      "\n",
      "\n",
      "--------------\n",
      "Run 4\n",
      "--------------\n",
      "Score: 0.7979884168480591\n",
      "Number of features selected: 125\n",
      "\n",
      "\n",
      "\n",
      "--------------\n",
      "Run 5\n",
      "--------------\n",
      "Score: 0.7999647694275417\n",
      "Number of features selected: 130\n",
      "\n",
      "\n",
      "\n",
      "\n",
      "Best score of 5 runs: 0.8010721352230793\n",
      "Number of features selected: 124\n",
      "CPU times: user 2h 29min 50s, sys: 1 s, total: 2h 29min 51s\n",
      "Wall time: 2h 29min 51s\n"
     ]
    }
   ],
   "source": [
    "%%time\n",
    "\n",
    "columns = optimize(benchmark, FlowerPollinationAlgorithm(), 100)"
   ]
  },
  {
   "cell_type": "code",
   "execution_count": 9,
   "metadata": {},
   "outputs": [
    {
     "name": "stdout",
     "output_type": "stream",
     "text": [
      "\u001b[1mnot fraud\u001b[0m\n",
      "precision: 0.7986844185270405\n",
      "recall: 0.990373201781611\n",
      "f1-score: 0.8842595518564073\n",
      "support: 91827\n",
      "\n",
      "\n",
      "\u001b[1mis fraud\u001b[0m\n",
      "precision: 0.7916077322017916\n",
      "recall: 0.12777291579468056\n",
      "f1-score: 0.22003079644857976\n",
      "support: 26281\n",
      "\n",
      "\n",
      "accuracy: 0.7984302502794053\n",
      "\n",
      "\n",
      "\u001b[1mmacro avg\u001b[0m\n",
      "precision: 0.7951460753644161\n",
      "recall: 0.5590730587881458\n",
      "f1-score: 0.5521451741524935\n",
      "support: 118108\n",
      "\n",
      "\n",
      "\u001b[1mweighted avg\u001b[0m\n",
      "precision: 0.7971097377830276\n",
      "recall: 0.7984302502794053\n",
      "f1-score: 0.7364575746755803\n",
      "support: 118108\n",
      "\n",
      "\n",
      "\u001b[1mArea Under the Receiver Operating Characteristic Curve (ROC AUC)\u001b[0m\n",
      "Score: 0.7951460753644161\n",
      "\n",
      "\n"
     ]
    },
    {
     "data": {
      "image/png": "[encoded data removed]",
      "text/plain": [
       "<Figure size 432x288 with 2 Axes>"
      ]
     },
     "metadata": {
      "needs_background": "light"
     },
     "output_type": "display_data"
    }
   ],
   "source": [
    "clf = model_fn()\n",
    "clf = clf.fit(x_train[columns], y_train)\n",
    "custom_classification_report(clf, x_test[columns], y_test)"
   ]
  },
  {
   "cell_type": "markdown",
   "metadata": {},
   "source": [
    "### Bat Algorithm (BA)"
   ]
  },
  {
   "cell_type": "code",
   "execution_count": 10,
   "metadata": {},
   "outputs": [
    {
     "name": "stdout",
     "output_type": "stream",
     "text": [
      "--------------\n",
      "Run 1\n",
      "--------------\n",
      "Score: 0.8014148427264216\n",
      "Number of features selected: 127\n",
      "\n",
      "\n",
      "\n",
      "--------------\n",
      "Run 2\n",
      "--------------\n",
      "Score: 0.801611443973096\n",
      "Number of features selected: 118\n",
      "\n",
      "\n",
      "\n",
      "--------------\n",
      "Run 3\n",
      "--------------\n",
      "Score: 0.7943139210004257\n",
      "Number of features selected: 124\n",
      "\n",
      "\n",
      "\n",
      "--------------\n",
      "Run 4\n",
      "--------------\n",
      "Score: 0.8018177361774484\n",
      "Number of features selected: 126\n",
      "\n",
      "\n",
      "\n",
      "--------------\n",
      "Run 5\n",
      "--------------\n",
      "Score: 0.7984070291251765\n",
      "Number of features selected: 136\n",
      "\n",
      "\n",
      "\n",
      "\n",
      "Best score of 5 runs: 0.8018177361774484\n",
      "Number of features selected: 126\n",
      "CPU times: user 4h 4min 30s, sys: 1.05 s, total: 4h 4min 31s\n",
      "Wall time: 4h 4min 31s\n"
     ]
    }
   ],
   "source": [
    "%%time\n",
    "\n",
    "columns = optimize(benchmark, BatAlgorithm(), 100)"
   ]
  },
  {
   "cell_type": "code",
   "execution_count": 11,
   "metadata": {},
   "outputs": [
    {
     "name": "stdout",
     "output_type": "stream",
     "text": [
      "\u001b[1mnot fraud\u001b[0m\n",
      "precision: 0.801038062283737\n",
      "recall: 0.9904334795639144\n",
      "f1-score: 0.8857242738810825\n",
      "support: 92092\n",
      "\n",
      "\n",
      "\u001b[1mis fraud\u001b[0m\n",
      "precision: 0.7923149457802923\n",
      "recall: 0.12918972939729398\n",
      "f1-score: 0.2221561240002644\n",
      "support: 26016\n",
      "\n",
      "\n",
      "accuracy: 0.8007247603887967\n",
      "\n",
      "\n",
      "\u001b[1mmacro avg\u001b[0m\n",
      "precision: 0.7966765040320146\n",
      "recall: 0.5598116044806042\n",
      "f1-score: 0.5539401989406735\n",
      "support: 118108\n",
      "\n",
      "\n",
      "\u001b[1mweighted avg\u001b[0m\n",
      "precision: 0.799116595499492\n",
      "recall: 0.8007247603887967\n",
      "f1-score: 0.7395581463766006\n",
      "support: 118108\n",
      "\n",
      "\n",
      "\u001b[1mArea Under the Receiver Operating Characteristic Curve (ROC AUC)\u001b[0m\n",
      "Score: 0.7966765040320145\n",
      "\n",
      "\n"
     ]
    },
    {
     "data": {
      "image/png": "[encoded data removed]",
      "text/plain": [
       "<Figure size 432x288 with 2 Axes>"
      ]
     },
     "metadata": {
      "needs_background": "light"
     },
     "output_type": "display_data"
    }
   ],
   "source": [
    "clf = model_fn()\n",
    "clf = clf.fit(x_train[columns], y_train)\n",
    "custom_classification_report(clf, x_test[columns], y_test)"
   ]
  },
  {
   "cell_type": "markdown",
   "metadata": {},
   "source": [
    "### Conclusion"
   ]
  },
  {
   "cell_type": "code",
   "execution_count": null,
   "metadata": {},
   "outputs": [],
   "source": [
    "TODO"
   ]
  }
 ],
 "metadata": {
  "kernelspec": {
   "display_name": "Python 3",
   "language": "python",
   "name": "python3"
  },
  "language_info": {
   "codemirror_mode": {
    "name": "ipython",
    "version": 3
   },
   "file_extension": ".py",
   "mimetype": "text/x-python",
   "name": "python",
   "nbconvert_exporter": "python",
   "pygments_lexer": "ipython3",
   "version": "3.7.6"
  }
 },
 "nbformat": 4,
 "nbformat_minor": 4
}
