{
 "cells": [
  {
   "cell_type": "markdown",
   "metadata": {},
   "source": [
    "# Transactions Fraud Detection\n",
    "\n",
    "**Authors:** [Peter Macinec](https://github.com/pmacinec), [Timotej Zatko](https://github.com/timzatko)"
   ]
  },
  {
   "cell_type": "markdown",
   "metadata": {},
   "source": [
    "## Model selection"
   ]
  },
  {
   "cell_type": "markdown",
   "metadata": {},
   "source": [
    "### Setup and reading the data"
   ]
  },
  {
   "cell_type": "code",
   "execution_count": 1,
   "metadata": {},
   "outputs": [],
   "source": [
    "%load_ext autoreload\n",
    "%autoreload 2"
   ]
  },
  {
   "cell_type": "code",
   "execution_count": 2,
   "metadata": {},
   "outputs": [],
   "source": [
    "import sys\n",
    "sys.path.append('..')\n",
    "\n",
    "import pandas as pd\n",
    "import numpy as np\n",
    "\n",
    "from sklearn.tree import DecisionTreeClassifier\n",
    "from sklearn.linear_model import LogisticRegressionCV\n",
    "from sklearn.svm import LinearSVC\n",
    "from sklearn.naive_bayes import GaussianNB\n",
    "\n",
    "from src.dataset import load_processed_data\n",
    "from src.evaluation import custom_classification_report"
   ]
  },
  {
   "cell_type": "code",
   "execution_count": 3,
   "metadata": {},
   "outputs": [
    {
     "name": "stdout",
     "output_type": "stream",
     "text": [
      "Number of records:\n",
      "  x_train - 47243\n",
      "  y_train - 47243\n",
      "  x_test - 11810\n",
      "  y_test - 11810\n"
     ]
    }
   ],
   "source": [
    "x_train, y_train, x_test, y_test = load_processed_data(frac=0.1)"
   ]
  },
  {
   "cell_type": "markdown",
   "metadata": {},
   "source": [
    "### Train DecisionTreeClassifier"
   ]
  },
  {
   "cell_type": "code",
   "execution_count": 4,
   "metadata": {},
   "outputs": [
    {
     "name": "stdout",
     "output_type": "stream",
     "text": [
      "CPU times: user 9.87 s, sys: 224 ms, total: 10.1 s\n",
      "Wall time: 12.6 s\n"
     ]
    }
   ],
   "source": [
    "%%time\n",
    "\n",
    "clf = DecisionTreeClassifier()\n",
    "clf = clf.fit(x_train, y_train)"
   ]
  },
  {
   "cell_type": "code",
   "execution_count": 5,
   "metadata": {},
   "outputs": [
    {
     "name": "stdout",
     "output_type": "stream",
     "text": [
      "\u001b[1mnot fraud\u001b[0m\n",
      "precision: 0.9769690576652602\n",
      "recall: 0.9783450704225352\n",
      "f1-score: 0.9776565798733285\n",
      "support: 11360\n",
      "\n",
      "\n",
      "\u001b[1mis fraud\u001b[0m\n",
      "precision: 0.43317972350230416\n",
      "recall: 0.4177777777777778\n",
      "f1-score: 0.4253393665158371\n",
      "support: 450\n",
      "\n",
      "\n",
      "accuracy: 0.9569856054191364\n",
      "\n",
      "\n",
      "\u001b[1mmacro avg\u001b[0m\n",
      "precision: 0.7050743905837822\n",
      "recall: 0.6980614241001565\n",
      "f1-score: 0.7014979731945828\n",
      "support: 11810\n",
      "\n",
      "\n",
      "\u001b[1mweighted avg\u001b[0m\n",
      "precision: 0.9562488882856388\n",
      "recall: 0.9569856054191364\n",
      "f1-score: 0.9566114701348974\n",
      "support: 11810\n",
      "\n",
      "\n",
      "CPU times: user 746 ms, sys: 647 ms, total: 1.39 s\n",
      "Wall time: 4.67 s\n"
     ]
    },
    {
     "data": {
      "image/png": "[encoded data removed]",
      "text/plain": [
       "<Figure size 432x288 with 2 Axes>"
      ]
     },
     "metadata": {
      "needs_background": "light"
     },
     "output_type": "display_data"
    }
   ],
   "source": [
    "%%time\n",
    "\n",
    "custom_classification_report(clf, x_test, y_test)"
   ]
  },
  {
   "cell_type": "markdown",
   "metadata": {},
   "source": [
    "### Train LogisticRegressionCV"
   ]
  },
  {
   "cell_type": "code",
   "execution_count": 6,
   "metadata": {},
   "outputs": [
    {
     "name": "stderr",
     "output_type": "stream",
     "text": [
      "/opt/conda/lib/python3.7/site-packages/sklearn/linear_model/_logistic.py:940: ConvergenceWarning: lbfgs failed to converge (status=1):\n",
      "STOP: TOTAL NO. of ITERATIONS REACHED LIMIT.\n",
      "\n",
      "Increase the number of iterations (max_iter) or scale the data as shown in:\n",
      "    https://scikit-learn.org/stable/modules/preprocessing.html\n",
      "Please also refer to the documentation for alternative solver options:\n",
      "    https://scikit-learn.org/stable/modules/linear_model.html#logistic-regression\n",
      "  extra_warning_msg=_LOGISTIC_SOLVER_CONVERGENCE_MSG)\n"
     ]
    },
    {
     "name": "stdout",
     "output_type": "stream",
     "text": [
      "CPU times: user 2min 30s, sys: 1min 20s, total: 3min 50s\n",
      "Wall time: 1min\n"
     ]
    }
   ],
   "source": [
    "%%time\n",
    "\n",
    "clf = LogisticRegressionCV()\n",
    "clf = clf.fit(x_train, y_train)"
   ]
  },
  {
   "cell_type": "code",
   "execution_count": 7,
   "metadata": {},
   "outputs": [
    {
     "name": "stderr",
     "output_type": "stream",
     "text": [
      "/opt/conda/lib/python3.7/site-packages/sklearn/metrics/_classification.py:1272: UndefinedMetricWarning: Recall and F-score are ill-defined and being set to 0.0 in labels with no true samples. Use `zero_division` parameter to control this behavior.\n",
      "  _warn_prf(average, modifier, msg_start, len(result))\n"
     ]
    },
    {
     "name": "stdout",
     "output_type": "stream",
     "text": [
      "\u001b[1mnot fraud\u001b[0m\n",
      "precision: 1.0\n",
      "recall: 0.9632514817950889\n",
      "f1-score: 0.9812818079875788\n",
      "support: 11810\n",
      "\n",
      "\n",
      "\u001b[1mis fraud\u001b[0m\n",
      "precision: 0.0\n",
      "recall: 0.0\n",
      "f1-score: 0.0\n",
      "support: 0\n",
      "\n",
      "\n",
      "accuracy: 0.9632514817950889\n",
      "\n",
      "\n",
      "\u001b[1mmacro avg\u001b[0m\n",
      "precision: 0.5\n",
      "recall: 0.48162574089754445\n",
      "f1-score: 0.4906409039937894\n",
      "support: 11810\n",
      "\n",
      "\n",
      "\u001b[1mweighted avg\u001b[0m\n",
      "precision: 1.0\n",
      "recall: 0.9632514817950889\n",
      "f1-score: 0.9812818079875787\n",
      "support: 11810\n",
      "\n",
      "\n",
      "CPU times: user 490 ms, sys: 321 ms, total: 811 ms\n",
      "Wall time: 303 ms\n"
     ]
    },
    {
     "data": {
      "image/png": "[encoded data removed]",
      "text/plain": [
       "<Figure size 432x288 with 2 Axes>"
      ]
     },
     "metadata": {
      "needs_background": "light"
     },
     "output_type": "display_data"
    }
   ],
   "source": [
    "%%time\n",
    "\n",
    "custom_classification_report(clf, x_test, y_test)"
   ]
  },
  {
   "cell_type": "markdown",
   "metadata": {},
   "source": [
    "### Train LinearSVC"
   ]
  },
  {
   "cell_type": "code",
   "execution_count": 8,
   "metadata": {},
   "outputs": [
    {
     "name": "stdout",
     "output_type": "stream",
     "text": [
      "CPU times: user 1min, sys: 0 ns, total: 1min\n",
      "Wall time: 1min\n"
     ]
    },
    {
     "name": "stderr",
     "output_type": "stream",
     "text": [
      "/opt/conda/lib/python3.7/site-packages/sklearn/svm/_base.py:947: ConvergenceWarning: Liblinear failed to converge, increase the number of iterations.\n",
      "  \"the number of iterations.\", ConvergenceWarning)\n"
     ]
    }
   ],
   "source": [
    "%%time\n",
    "\n",
    "clf = LinearSVC()\n",
    "clf = clf.fit(x_train, y_train)"
   ]
  },
  {
   "cell_type": "code",
   "execution_count": 9,
   "metadata": {},
   "outputs": [
    {
     "name": "stdout",
     "output_type": "stream",
     "text": [
      "\u001b[1mnot fraud\u001b[0m\n",
      "precision: 0.9999120956399438\n",
      "recall: 0.9632483698873741\n",
      "f1-score: 0.9812378693120551\n",
      "support: 11809\n",
      "\n",
      "\n",
      "\u001b[1mis fraud\u001b[0m\n",
      "precision: 0.0\n",
      "recall: 0.0\n",
      "f1-score: 0.0\n",
      "support: 1\n",
      "\n",
      "\n",
      "accuracy: 0.9631668077900085\n",
      "\n",
      "\n",
      "\u001b[1mmacro avg\u001b[0m\n",
      "precision: 0.4999560478199719\n",
      "recall: 0.48162418494368703\n",
      "f1-score: 0.49061893465602757\n",
      "support: 11810\n",
      "\n",
      "\n",
      "\u001b[1mweighted avg\u001b[0m\n",
      "precision: 0.9998274290780775\n",
      "recall: 0.9631668077900085\n",
      "f1-score: 0.9811547839717238\n",
      "support: 11810\n",
      "\n",
      "\n",
      "CPU times: user 768 ms, sys: 0 ns, total: 768 ms\n",
      "Wall time: 244 ms\n"
     ]
    },
    {
     "data": {
      "image/png": "[encoded data removed]",
      "text/plain": [
       "<Figure size 432x288 with 2 Axes>"
      ]
     },
     "metadata": {
      "needs_background": "light"
     },
     "output_type": "display_data"
    }
   ],
   "source": [
    "%%time\n",
    "\n",
    "custom_classification_report(clf, x_test, y_test)"
   ]
  },
  {
   "cell_type": "markdown",
   "metadata": {},
   "source": [
    "### Train GaussianNB"
   ]
  },
  {
   "cell_type": "code",
   "execution_count": 10,
   "metadata": {},
   "outputs": [
    {
     "name": "stdout",
     "output_type": "stream",
     "text": [
      "CPU times: user 556 ms, sys: 0 ns, total: 556 ms\n",
      "Wall time: 555 ms\n"
     ]
    }
   ],
   "source": [
    "%%time\n",
    "\n",
    "clf = GaussianNB()\n",
    "clf = clf.fit(x_train, y_train)"
   ]
  },
  {
   "cell_type": "code",
   "execution_count": 11,
   "metadata": {},
   "outputs": [
    {
     "name": "stdout",
     "output_type": "stream",
     "text": [
      "\u001b[1mnot fraud\u001b[0m\n",
      "precision: 0.016789732770745427\n",
      "recall: 0.9182692307692307\n",
      "f1-score: 0.03297651933701657\n",
      "support: 208\n",
      "\n",
      "\n",
      "\u001b[1mis fraud\u001b[0m\n",
      "precision: 0.9608294930875576\n",
      "recall: 0.03594207895190484\n",
      "f1-score: 0.06929212362911266\n",
      "support: 11602\n",
      "\n",
      "\n",
      "accuracy: 0.051481795088907704\n",
      "\n",
      "\n",
      "\u001b[1mmacro avg\u001b[0m\n",
      "precision: 0.48880961292915154\n",
      "recall: 0.4771056548605678\n",
      "f1-score: 0.05113432148306461\n",
      "support: 11810\n",
      "\n",
      "\n",
      "\u001b[1mweighted avg\u001b[0m\n",
      "precision: 0.9442028825756271\n",
      "recall: 0.051481795088907704\n",
      "f1-score: 0.0686525261953484\n",
      "support: 11810\n",
      "\n",
      "\n",
      "CPU times: user 285 ms, sys: 0 ns, total: 285 ms\n",
      "Wall time: 279 ms\n"
     ]
    },
    {
     "data": {
      "image/png": "[encoded data removed]",
      "text/plain": [
       "<Figure size 432x288 with 2 Axes>"
      ]
     },
     "metadata": {
      "needs_background": "light"
     },
     "output_type": "display_data"
    }
   ],
   "source": [
    "%%time\n",
    "\n",
    "custom_classification_report(clf, x_test, y_test)"
   ]
  }
 ],
 "metadata": {
  "kernelspec": {
   "display_name": "Python 3",
   "language": "python",
   "name": "python3"
  },
  "language_info": {
   "codemirror_mode": {
    "name": "ipython",
    "version": 3
   },
   "file_extension": ".py",
   "mimetype": "text/x-python",
   "name": "python",
   "nbconvert_exporter": "python",
   "pygments_lexer": "ipython3",
   "version": "3.7.6"
  }
 },
 "nbformat": 4,
 "nbformat_minor": 4
}
