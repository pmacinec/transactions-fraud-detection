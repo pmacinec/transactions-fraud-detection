{
 "cells": [
  {
   "cell_type": "markdown",
   "metadata": {},
   "source": [
    "# Transactions Fraud Detection\n",
    "\n",
    "**Authors:** [Peter Macinec](https://github.com/pmacinec), [Timotej Zatko](https://github.com/timzatko)"
   ]
  },
  {
   "cell_type": "markdown",
   "metadata": {},
   "source": [
    "## Model selection\n",
    "\n",
    "In this jupyter notebook, we will train different types of machine learning algorithms to compare them and choose the right one for future evaluation. Algorithms are trained only on a subset of data. The chosen algorithm will be used in modeling and evaluation phase, trained on all training data. Using that algorithm, we will evaluate the power and advantages of nature inspired algorithms in case of feature selection (to solve our main problem with a lot of features in transactions fraud detection with machine learning)."
   ]
  },
  {
   "cell_type": "markdown",
   "metadata": {},
   "source": [
    "### Setup and reading the data\n",
    "\n",
    "At first, we need to import libraries and set initial configs."
   ]
  },
  {
   "cell_type": "code",
   "execution_count": 1,
   "metadata": {},
   "outputs": [],
   "source": [
    "%load_ext autoreload\n",
    "%autoreload 2"
   ]
  },
  {
   "cell_type": "code",
   "execution_count": 2,
   "metadata": {},
   "outputs": [],
   "source": [
    "import sys\n",
    "sys.path.append('..')\n",
    "\n",
    "# Supress libraries deprecation import warnings\n",
    "import warnings\n",
    "warnings.filterwarnings('ignore')"
   ]
  },
  {
   "cell_type": "code",
   "execution_count": 3,
   "metadata": {},
   "outputs": [],
   "source": [
    "import pandas as pd\n",
    "import numpy as np\n",
    "\n",
    "from sklearn.tree import DecisionTreeClassifier\n",
    "from sklearn.ensemble import RandomForestClassifier\n",
    "from sklearn.linear_model import LogisticRegressionCV\n",
    "from sklearn.svm import LinearSVC\n",
    "from sklearn.naive_bayes import GaussianNB\n",
    "\n",
    "from src.dataset import load_processed_data\n",
    "from src.evaluation import custom_classification_report"
   ]
  },
  {
   "cell_type": "markdown",
   "metadata": {},
   "source": [
    "Machine learning algorithms will be trained on only 20% of data:"
   ]
  },
  {
   "cell_type": "code",
   "execution_count": 4,
   "metadata": {},
   "outputs": [
    {
     "name": "stdout",
     "output_type": "stream",
     "text": [
      "Number of records:\n",
      "  x_train - 94486\n",
      "  y_train - 94486\n",
      "  x_test - 23621\n",
      "  y_test - 23621\n"
     ]
    }
   ],
   "source": [
    "x_train, y_train, x_test, y_test = load_processed_data(frac=0.2)"
   ]
  },
  {
   "cell_type": "markdown",
   "metadata": {},
   "source": [
    "### Training machine learning algorithms\n",
    "\n",
    "Different types of algorithms will be trained with default parameters:\n",
    "\n",
    "* decision tree\n",
    "* random forest\n",
    "* logistic regression\n",
    "* linear SVC\n",
    "* Gaussian naive Bayes\n",
    "\n",
    "All of the algorithms are based on very different ways of how the learning and classification is performed. Trying different approaches should help us to find the best fitting type of algorithm for our problem."
   ]
  },
  {
   "cell_type": "markdown",
   "metadata": {},
   "source": [
    "#### Decision tree"
   ]
  },
  {
   "cell_type": "code",
   "execution_count": 5,
   "metadata": {},
   "outputs": [
    {
     "name": "stdout",
     "output_type": "stream",
     "text": [
      "CPU times: user 17.2 s, sys: 47.6 ms, total: 17.2 s\n",
      "Wall time: 17.2 s\n"
     ]
    }
   ],
   "source": [
    "%%time\n",
    "\n",
    "clf = DecisionTreeClassifier()\n",
    "clf = clf.fit(x_train, y_train)"
   ]
  },
  {
   "cell_type": "code",
   "execution_count": 6,
   "metadata": {},
   "outputs": [
    {
     "name": "stdout",
     "output_type": "stream",
     "text": [
      "\u001b[1mnot fraud\u001b[0m\n",
      "precision: 0.9769004435466163\n",
      "recall: 0.9793088267664539\n",
      "f1-score: 0.9781031526183881\n",
      "support: 22715\n",
      "\n",
      "\n",
      "\u001b[1mis fraud\u001b[0m\n",
      "precision: 0.4470588235294118\n",
      "recall: 0.4194260485651214\n",
      "f1-score: 0.4328018223234624\n",
      "support: 906\n",
      "\n",
      "\n",
      "accuracy: 0.9578341306464586\n",
      "\n",
      "\n",
      "\u001b[1mmacro avg\u001b[0m\n",
      "precision: 0.7119796335380141\n",
      "recall: 0.6993674376657877\n",
      "f1-score: 0.7054524874709253\n",
      "support: 23621\n",
      "\n",
      "\n",
      "\u001b[1mweighted avg\u001b[0m\n",
      "precision: 0.9565779970906836\n",
      "recall: 0.9578341306464586\n",
      "f1-score: 0.9571877381462149\n",
      "support: 23621\n",
      "\n",
      "\n",
      "\u001b[1mArea Under the Receiver Operating Characteristic Curve (ROC AUC)\u001b[0m\n",
      "micro: 0.7119796335380141\n",
      "macro: 0.7119796335380141\n",
      "samples: 0.7119796335380141\n",
      "weighted: 0.7119796335380141\n",
      "\n",
      "\n"
     ]
    },
    {
     "data": {
      "image/png": "[encoded data removed]",
      "text/plain": [
       "<Figure size 432x288 with 2 Axes>"
      ]
     },
     "metadata": {
      "needs_background": "light"
     },
     "output_type": "display_data"
    }
   ],
   "source": [
    "custom_classification_report(clf, x_test, y_test)"
   ]
  },
  {
   "cell_type": "markdown",
   "metadata": {},
   "source": [
    "#### Random forest"
   ]
  },
  {
   "cell_type": "code",
   "execution_count": 7,
   "metadata": {},
   "outputs": [
    {
     "name": "stdout",
     "output_type": "stream",
     "text": [
      "CPU times: user 55.9 s, sys: 43.4 ms, total: 55.9 s\n",
      "Wall time: 55.9 s\n"
     ]
    }
   ],
   "source": [
    "%%time\n",
    "\n",
    "clf = RandomForestClassifier()\n",
    "clf = clf.fit(x_train, y_train)"
   ]
  },
  {
   "cell_type": "code",
   "execution_count": 8,
   "metadata": {},
   "outputs": [
    {
     "name": "stdout",
     "output_type": "stream",
     "text": [
      "\u001b[1mnot fraud\u001b[0m\n",
      "precision: 0.9978042246717316\n",
      "recall: 0.9761137603643081\n",
      "f1-score: 0.9868398193189715\n",
      "support: 23277\n",
      "\n",
      "\n",
      "\u001b[1mis fraud\u001b[0m\n",
      "precision: 0.3458823529411765\n",
      "recall: 0.8546511627906976\n",
      "f1-score: 0.4924623115577889\n",
      "support: 344\n",
      "\n",
      "\n",
      "accuracy: 0.974344862622243\n",
      "\n",
      "\n",
      "\u001b[1mmacro avg\u001b[0m\n",
      "precision: 0.671843288806454\n",
      "recall: 0.9153824615775028\n",
      "f1-score: 0.7396510654383802\n",
      "support: 23621\n",
      "\n",
      "\n",
      "\u001b[1mweighted avg\u001b[0m\n",
      "precision: 0.9883100828540562\n",
      "recall: 0.974344862622243\n",
      "f1-score: 0.9796400452759653\n",
      "support: 23621\n",
      "\n",
      "\n",
      "\u001b[1mArea Under the Receiver Operating Characteristic Curve (ROC AUC)\u001b[0m\n",
      "micro: 0.671843288806454\n",
      "macro: 0.671843288806454\n",
      "samples: 0.671843288806454\n",
      "weighted: 0.671843288806454\n",
      "\n",
      "\n"
     ]
    },
    {
     "data": {
      "image/png": "[encoded data removed]",
      "text/plain": [
       "<Figure size 432x288 with 2 Axes>"
      ]
     },
     "metadata": {
      "needs_background": "light"
     },
     "output_type": "display_data"
    }
   ],
   "source": [
    "custom_classification_report(clf, x_test, y_test)"
   ]
  },
  {
   "cell_type": "markdown",
   "metadata": {},
   "source": [
    "#### Logistic regression"
   ]
  },
  {
   "cell_type": "code",
   "execution_count": 9,
   "metadata": {},
   "outputs": [
    {
     "name": "stdout",
     "output_type": "stream",
     "text": [
      "CPU times: user 12min 25s, sys: 3min 6s, total: 15min 31s\n",
      "Wall time: 4min 13s\n"
     ]
    }
   ],
   "source": [
    "%%time\n",
    "\n",
    "clf = LogisticRegressionCV()\n",
    "clf = clf.fit(x_train, y_train)"
   ]
  },
  {
   "cell_type": "code",
   "execution_count": 10,
   "metadata": {},
   "outputs": [
    {
     "name": "stdout",
     "output_type": "stream",
     "text": [
      "\u001b[1mnot fraud\u001b[0m\n",
      "precision: 0.9987264503096043\n",
      "recall: 0.9701390666325399\n",
      "f1-score: 0.9842252180122475\n",
      "support: 23442\n",
      "\n",
      "\n",
      "\u001b[1mis fraud\u001b[0m\n",
      "precision: 0.17647058823529413\n",
      "recall: 0.8379888268156425\n",
      "f1-score: 0.29154518950437325\n",
      "support: 179\n",
      "\n",
      "\n",
      "accuracy: 0.9691376317683418\n",
      "\n",
      "\n",
      "\u001b[1mmacro avg\u001b[0m\n",
      "precision: 0.5875985192724492\n",
      "recall: 0.9040639467240912\n",
      "f1-score: 0.6378852037583104\n",
      "support: 23621\n",
      "\n",
      "\n",
      "\u001b[1mweighted avg\u001b[0m\n",
      "precision: 0.992495393228562\n",
      "recall: 0.9691376317683418\n",
      "f1-score: 0.97897608693808\n",
      "support: 23621\n",
      "\n",
      "\n",
      "\u001b[1mArea Under the Receiver Operating Characteristic Curve (ROC AUC)\u001b[0m\n",
      "micro: 0.5875985192724492\n",
      "macro: 0.5875985192724492\n",
      "samples: 0.5875985192724492\n",
      "weighted: 0.5875985192724492\n",
      "\n",
      "\n"
     ]
    },
    {
     "data": {
      "image/png": "[encoded data removed]",
      "text/plain": [
       "<Figure size 432x288 with 2 Axes>"
      ]
     },
     "metadata": {
      "needs_background": "light"
     },
     "output_type": "display_data"
    }
   ],
   "source": [
    "custom_classification_report(clf, x_test, y_test)"
   ]
  },
  {
   "cell_type": "markdown",
   "metadata": {},
   "source": [
    "#### Linear SVC"
   ]
  },
  {
   "cell_type": "code",
   "execution_count": 11,
   "metadata": {},
   "outputs": [
    {
     "name": "stdout",
     "output_type": "stream",
     "text": [
      "CPU times: user 2min 12s, sys: 261 ms, total: 2min 12s\n",
      "Wall time: 2min 12s\n"
     ]
    }
   ],
   "source": [
    "%%time\n",
    "\n",
    "clf = LinearSVC()\n",
    "clf = clf.fit(x_train, y_train)"
   ]
  },
  {
   "cell_type": "code",
   "execution_count": 12,
   "metadata": {},
   "outputs": [
    {
     "name": "stdout",
     "output_type": "stream",
     "text": [
      "\u001b[1mnot fraud\u001b[0m\n",
      "precision: 0.9960915199156822\n",
      "recall: 0.9686952808029041\n",
      "f1-score: 0.9822023989953667\n",
      "support: 23415\n",
      "\n",
      "\n",
      "\u001b[1mis fraud\u001b[0m\n",
      "precision: 0.1376470588235294\n",
      "recall: 0.5679611650485437\n",
      "f1-score: 0.22159090909090906\n",
      "support: 206\n",
      "\n",
      "\n",
      "accuracy: 0.9652004572202701\n",
      "\n",
      "\n",
      "\u001b[1mmacro avg\u001b[0m\n",
      "precision: 0.5668692893696058\n",
      "recall: 0.7683282229257239\n",
      "f1-score: 0.6018966540431379\n",
      "support: 23621\n",
      "\n",
      "\n",
      "\u001b[1mweighted avg\u001b[0m\n",
      "precision: 0.9886049800153822\n",
      "recall: 0.9652004572202701\n",
      "f1-score: 0.975569065651295\n",
      "support: 23621\n",
      "\n",
      "\n",
      "\u001b[1mArea Under the Receiver Operating Characteristic Curve (ROC AUC)\u001b[0m\n",
      "micro: 0.5668692893696059\n",
      "macro: 0.5668692893696059\n",
      "samples: 0.5668692893696059\n",
      "weighted: 0.5668692893696059\n",
      "\n",
      "\n"
     ]
    },
    {
     "data": {
      "image/png": "[encoded data removed]",
      "text/plain": [
       "<Figure size 432x288 with 2 Axes>"
      ]
     },
     "metadata": {
      "needs_background": "light"
     },
     "output_type": "display_data"
    }
   ],
   "source": [
    "custom_classification_report(clf, x_test, y_test)"
   ]
  },
  {
   "cell_type": "markdown",
   "metadata": {},
   "source": [
    "#### Gaussian Naive Bayes"
   ]
  },
  {
   "cell_type": "code",
   "execution_count": 13,
   "metadata": {},
   "outputs": [
    {
     "name": "stdout",
     "output_type": "stream",
     "text": [
      "CPU times: user 466 ms, sys: 100 ms, total: 566 ms\n",
      "Wall time: 566 ms\n"
     ]
    }
   ],
   "source": [
    "%%time\n",
    "\n",
    "clf = GaussianNB()\n",
    "clf = clf.fit(x_train, y_train)"
   ]
  },
  {
   "cell_type": "code",
   "execution_count": 14,
   "metadata": {},
   "outputs": [
    {
     "name": "stdout",
     "output_type": "stream",
     "text": [
      "\u001b[1mnot fraud\u001b[0m\n",
      "precision: 0.0308286856088885\n",
      "recall: 0.9831932773109243\n",
      "f1-score: 0.05978284011070897\n",
      "support: 714\n",
      "\n",
      "\n",
      "\u001b[1mis fraud\u001b[0m\n",
      "precision: 0.9858823529411764\n",
      "recall: 0.03658270397695028\n",
      "f1-score: 0.07054762806751695\n",
      "support: 22907\n",
      "\n",
      "\n",
      "accuracy: 0.06519622369925067\n",
      "\n",
      "\n",
      "\u001b[1mmacro avg\u001b[0m\n",
      "precision: 0.5083555192750324\n",
      "recall: 0.5098879906439373\n",
      "f1-score: 0.06516523408911296\n",
      "support: 23621\n",
      "\n",
      "\n",
      "\u001b[1mweighted avg\u001b[0m\n",
      "precision: 0.9570136209452721\n",
      "recall: 0.06519622369925067\n",
      "f1-score: 0.07022223716107096\n",
      "support: 23621\n",
      "\n",
      "\n",
      "\u001b[1mArea Under the Receiver Operating Characteristic Curve (ROC AUC)\u001b[0m\n",
      "micro: 0.5083555192750324\n",
      "macro: 0.5083555192750324\n",
      "samples: 0.5083555192750324\n",
      "weighted: 0.5083555192750324\n",
      "\n",
      "\n"
     ]
    },
    {
     "data": {
      "image/png": "[encoded data removed]",
      "text/plain": [
       "<Figure size 432x288 with 2 Axes>"
      ]
     },
     "metadata": {
      "needs_background": "light"
     },
     "output_type": "display_data"
    }
   ],
   "source": [
    "custom_classification_report(clf, x_test, y_test)"
   ]
  },
  {
   "cell_type": "markdown",
   "metadata": {},
   "source": [
    "### Conclusion\n",
    "\n",
    "In this jupyter notebook, we have trained several machine algorithms on subset of data to choose the appropriate one for our problem. All of tried algorithms are based on very different ways of how the learning and classification is performed.\n",
    "\n",
    "According to classification results, the tree-based algorithms (decision tree or random forest) seem to be the best fitting. Best results have been achieved by random forest classifier. Not only did these algorithms achieve the best results, but also their training was very fast (except for naive Bayes, but it achieved bad results). The speed of training is very important for next phase (evaluation) where nature inspired algorithms will be used for feature selection. When using nature inspired algorithms, usually the machine learning algorithm will be trained many times, so fast training is very important."
   ]
  }
 ],
 "metadata": {
  "kernelspec": {
   "display_name": "Python 3",
   "language": "python",
   "name": "python3"
  },
  "language_info": {
   "codemirror_mode": {
    "name": "ipython",
    "version": 3
   },
   "file_extension": ".py",
   "mimetype": "text/x-python",
   "name": "python",
   "nbconvert_exporter": "python",
   "pygments_lexer": "ipython3",
   "version": "3.7.6"
  }
 },
 "nbformat": 4,
 "nbformat_minor": 4
}
