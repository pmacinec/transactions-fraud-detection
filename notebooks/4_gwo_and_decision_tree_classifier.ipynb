{
 "cells": [
  {
   "cell_type": "markdown",
   "metadata": {},
   "source": [
    "# Transactions Fraud Detection\n",
    "\n",
    "**Authors:** [Peter Macinec](https://github.com/pmacinec), [Timotej Zatko](https://github.com/timzatko)"
   ]
  },
  {
   "cell_type": "markdown",
   "metadata": {},
   "source": [
    "## Grey Wolf Algorithm Application on Decision Tree Classifier"
   ]
  },
  {
   "cell_type": "code",
   "execution_count": 1,
   "metadata": {},
   "outputs": [],
   "source": [
    "%load_ext autoreload\n",
    "%autoreload 2"
   ]
  },
  {
   "cell_type": "code",
   "execution_count": 2,
   "metadata": {},
   "outputs": [],
   "source": [
    "import sys\n",
    "sys.path.append('..')\n",
    "\n",
    "import pandas as pd\n",
    "import numpy as np\n",
    "\n",
    "from sklearn.metrics import roc_auc_score\n",
    "from sklearn.tree import DecisionTreeClassifier\n",
    "\n",
    "from NiaPy.task import StoppingTask, OptimizationType\n",
    "from NiaPy.algorithms.basic import GreyWolfOptimizer\n",
    "\n",
    "from src.dataset import load_processed_data\n",
    "from src.evaluation import custom_classification_report\n",
    "\n",
    "from src.classification_benchmark import ClassificationBenchmark"
   ]
  },
  {
   "cell_type": "markdown",
   "metadata": {},
   "source": [
    "### Load the data"
   ]
  },
  {
   "cell_type": "code",
   "execution_count": 3,
   "metadata": {},
   "outputs": [
    {
     "name": "stdout",
     "output_type": "stream",
     "text": [
      "Number of records:\n",
      "  x_train - 4724\n",
      "  y_train - 4724\n",
      "  x_test - 1181\n",
      "  y_test - 1181\n",
      "CPU times: user 35.6 s, sys: 3 s, total: 38.6 s\n",
      "Wall time: 50.5 s\n"
     ]
    }
   ],
   "source": [
    "%%time\n",
    "\n",
    "x_train, y_train, x_test, y_test = load_processed_data(frac=0.01)"
   ]
  },
  {
   "cell_type": "markdown",
   "metadata": {},
   "source": [
    "### Setup classification benchmark"
   ]
  },
  {
   "cell_type": "code",
   "execution_count": 4,
   "metadata": {},
   "outputs": [],
   "source": [
    "def model_fn():\n",
    "    return DecisionTreeClassifier(random_state=42)"
   ]
  },
  {
   "cell_type": "code",
   "execution_count": 5,
   "metadata": {},
   "outputs": [],
   "source": [
    "columns_count = len(x_train.columns)\n",
    "benchmark = ClassificationBenchmark(\n",
    "    model_fn,\n",
    "    lambda y_test, y_pred: roc_auc_score(y_test, y_pred),\n",
    "    x_train,\n",
    "    y_train,\n",
    "    x_test,\n",
    "    y_test\n",
    ")"
   ]
  },
  {
   "cell_type": "markdown",
   "metadata": {},
   "source": [
    "### Compare with baseline"
   ]
  },
  {
   "cell_type": "code",
   "execution_count": 6,
   "metadata": {},
   "outputs": [],
   "source": [
    "def baseline(benchmark):\n",
    "    \"\"\"\n",
    "    Evaluate model trained with all features.\n",
    "    \n",
    "    :param benchmark: NiaPy.Benchmark to evaluate\n",
    "    \"\"\"\n",
    "    evaluate = benchmark.function()\n",
    "    return 1 - evaluate(benchmark.get_length(), np.ones(columns_count))"
   ]
  },
  {
   "cell_type": "markdown",
   "metadata": {},
   "source": [
    "We will compare optimizer with our baseline, which is using all of the columns."
   ]
  },
  {
   "cell_type": "code",
   "execution_count": 7,
   "metadata": {},
   "outputs": [
    {
     "data": {
      "text/plain": [
       "0.6286349206349205"
      ]
     },
     "execution_count": 7,
     "metadata": {},
     "output_type": "execute_result"
    }
   ],
   "source": [
    "baseline(benchmark)"
   ]
  },
  {
   "cell_type": "markdown",
   "metadata": {},
   "source": [
    "### Find optimal features"
   ]
  },
  {
   "cell_type": "code",
   "execution_count": 12,
   "metadata": {},
   "outputs": [],
   "source": [
    "def optimize(benchmark, nGEN):\n",
    "    \"\"\"\n",
    "    Optimize task with GWO optimizer.\n",
    "    \n",
    "    :param benchmark: NiaPy.Benchmark to optimize\n",
    "    :param nGEN: number of generations\n",
    "    \"\"\"\n",
    "    \n",
    "    best_columns = None\n",
    "    best_score = 0\n",
    "    \n",
    "    for i in range(5):\n",
    "        # when using OptimizationType.MAXIMIZATION, the library will fail\n",
    "        # we use OptimizationType.MINIMIZATION instead and invert the score\n",
    "        task = StoppingTask(D=benchmark.get_length(), nGEN=nGEN, optType=OptimizationType.MINIMIZATION, benchmark=benchmark)\n",
    "        algo = GreyWolfOptimizer(NP=25)\n",
    "        solution_vec, score = algo.run(task=task)    \n",
    "        \n",
    "        # invert the score\n",
    "        score = 1 - score\n",
    "        columns = benchmark.select_columns(solution_vec)\n",
    "        \n",
    "        print(f'Score: {score}')\n",
    "        print(columns)\n",
    "        print('\\n')\n",
    "        \n",
    "        if score > best_score:\n",
    "            best_score = score\n",
    "            best_columns = columns\n",
    "\n",
    "    print('---')\n",
    "    print(f'Score: {best_score}')\n",
    "            \n",
    "    return best_columns"
   ]
  },
  {
   "cell_type": "markdown",
   "metadata": {},
   "source": [
    "Find the optimal combination of columns."
   ]
  },
  {
   "cell_type": "code",
   "execution_count": 13,
   "metadata": {},
   "outputs": [
    {
     "name": "stdout",
     "output_type": "stream",
     "text": [
      "Score: 0.7326269841269842\n",
      "['TransactionDT', 'C2', 'C4', 'C6', 'C13', 'V1', 'V6', 'V12', 'V14', 'V19', 'V26', 'V30', 'V31', 'V32', 'V35', 'V37', 'V45', 'V46', 'V47', 'V49', 'V56', 'V58', 'V64', 'V65', 'V66', 'V68', 'V75', 'V82', 'V87', 'V93', 'V94', 'V96', 'V100', 'V109', 'V110', 'V112', 'V117', 'V121', 'V136', 'V281', 'V283', 'V286', 'V291', 'V292', 'V294', 'V300', 'V303', 'V306', 'V309', 'V311', 'V314', 'V318', 'V320', 'V321', 'ProductCD_other', 'card2_490.0', 'card5_other', 'P_emaildomain_nan', 'P_emaildomain_yahoo', 'M4_M1', 'M6_T']\n",
      "\n",
      "\n",
      "Score: 0.7290714285714286\n",
      "['TransactionDT', 'C1', 'C3', 'C4', 'C8', 'C9', 'C11', 'C13', 'D1', 'D3', 'D10', 'V2', 'V4', 'V9', 'V13', 'V15', 'V16', 'V18', 'V22', 'V23', 'V24', 'V25', 'V30', 'V33', 'V34', 'V39', 'V40', 'V41', 'V44', 'V45', 'V47', 'V48', 'V56', 'V58', 'V59', 'V60', 'V61', 'V62', 'V64', 'V69', 'V70', 'V72', 'V74', 'V77', 'V78', 'V79', 'V88', 'V95', 'V97', 'V102', 'V103', 'V107', 'V113', 'V114', 'V116', 'V119', 'V126', 'V128', 'V131', 'V135', 'V282', 'V283', 'V285', 'V291', 'V294', 'V298', 'V302', 'V304', 'V307', 'V308', 'V309', 'V310', 'V314', 'V317', 'V318', 'V319', 'V321', 'ProductCD_C', 'card1_other', 'card2_other', 'card3_other', 'card4_other', 'addr2_87.0', 'addr2_other', 'P_emaildomain_nan', 'M3_other']\n",
      "\n",
      "\n",
      "Score: 0.7112142857142857\n",
      "['TransactionDT', 'C1', 'C3', 'C4', 'C5', 'C13', 'V1', 'V6', 'V7', 'V8', 'V10', 'V11', 'V12', 'V17', 'V28', 'V30', 'V33', 'V35', 'V41', 'V44', 'V46', 'V47', 'V49', 'V50', 'V53', 'V57', 'V58', 'V60', 'V62', 'V63', 'V64', 'V75', 'V79', 'V83', 'V87', 'V88', 'V89', 'V93', 'V94', 'V97', 'V99', 'V101', 'V102', 'V105', 'V106', 'V117', 'V121', 'V125', 'V126', 'V128', 'V137', 'V282', 'V284', 'V286', 'V289', 'V291', 'V292', 'V297', 'V306', 'V307', 'V314', 'ProductCD_R', 'card2_other', 'card4_other', 'card5_other', 'card6_credit', 'card6_other', 'P_emaildomain_gmail', 'P_emaildomain_hotmail', 'M2_T', 'M2_other', 'M4_M0']\n",
      "\n",
      "\n",
      "Score: 0.7335158730158731\n",
      "['C1', 'C4', 'C5', 'C6', 'C8', 'C13', 'D2', 'D10', 'V2', 'V7', 'V9', 'V12', 'V17', 'V26', 'V30', 'V32', 'V37', 'V38', 'V39', 'V41', 'V42', 'V45', 'V53', 'V54', 'V57', 'V58', 'V60', 'V63', 'V66', 'V68', 'V74', 'V75', 'V81', 'V88', 'V92', 'V101', 'V102', 'V107', 'V112', 'V117', 'V119', 'V130', 'V131', 'V134', 'V137', 'V280', 'V282', 'V283', 'V286', 'V288', 'V291', 'V297', 'V298', 'V307', 'V314', 'V318', 'card1_other', 'card4_other', 'card6_debit', 'P_emaildomain_anonymous', 'P_emaildomain_yahoo', 'M1_other', 'M2_other']\n",
      "\n",
      "\n",
      "Score: 0.7402222222222223\n",
      "['C1', 'C4', 'C8', 'C11', 'C13', 'V4', 'V11', 'V17', 'V18', 'V19', 'V25', 'V26', 'V35', 'V43', 'V45', 'V46', 'V49', 'V50', 'V52', 'V58', 'V61', 'V62', 'V66', 'V74', 'V76', 'V85', 'V87', 'V89', 'V93', 'V94', 'V95', 'V97', 'V101', 'V105', 'V107', 'V110', 'V111', 'V114', 'V117', 'V122', 'V126', 'V282', 'V284', 'V285', 'V290', 'V294', 'V295', 'V297', 'V300', 'V313', 'V315', 'V318', 'ProductCD_C', 'card5_other', 'M1_T', 'M2_other', 'M6_T']\n",
      "\n",
      "\n",
      "---\n",
      "Score: 0.7402222222222223\n",
      "CPU times: user 19min 58s, sys: 6.02 s, total: 20min 4s\n",
      "Wall time: 20min 9s\n"
     ]
    }
   ],
   "source": [
    "%%time\n",
    "\n",
    "columns = optimize(benchmark, 100)"
   ]
  },
  {
   "cell_type": "markdown",
   "metadata": {},
   "source": [
    "We found the best solution from 5 independent runs of GWO algorithm. During every run we captured a different solution. For the final submission, we probably would not like to use \"the best one\", because we would like to have some variance. Maybe we can try to merge these solution together."
   ]
  },
  {
   "cell_type": "markdown",
   "metadata": {},
   "source": [
    "In comparison with the baseline model, the best solution by GWO is better by more than 10 percentual points."
   ]
  },
  {
   "cell_type": "markdown",
   "metadata": {},
   "source": [
    "### Train final classifier"
   ]
  },
  {
   "cell_type": "markdown",
   "metadata": {},
   "source": [
    "We will train the model with selected features on the whole dataset."
   ]
  },
  {
   "cell_type": "code",
   "execution_count": 14,
   "metadata": {},
   "outputs": [
    {
     "name": "stdout",
     "output_type": "stream",
     "text": [
      "Number of records:\n",
      "  x_train - 472432\n",
      "  y_train - 472432\n",
      "  x_test - 118108\n",
      "  y_test - 118108\n"
     ]
    }
   ],
   "source": [
    "x_train, y_train, x_test, y_test = load_processed_data()"
   ]
  },
  {
   "cell_type": "markdown",
   "metadata": {},
   "source": [
    "Select columns based on the opmtimization result."
   ]
  },
  {
   "cell_type": "code",
   "execution_count": 16,
   "metadata": {},
   "outputs": [],
   "source": [
    "x_train = x_train[columns]\n",
    "x_test = x_test[columns]"
   ]
  },
  {
   "cell_type": "markdown",
   "metadata": {},
   "source": [
    "Train the final classifier."
   ]
  },
  {
   "cell_type": "code",
   "execution_count": 17,
   "metadata": {},
   "outputs": [
    {
     "name": "stdout",
     "output_type": "stream",
     "text": [
      "CPU times: user 11 s, sys: 10.4 ms, total: 11 s\n",
      "Wall time: 11 s\n"
     ]
    }
   ],
   "source": [
    "%%time\n",
    "\n",
    "clf = model_fn()\n",
    "clf = clf.fit(x_train, y_train)"
   ]
  },
  {
   "cell_type": "markdown",
   "metadata": {},
   "source": [
    "Evaluate."
   ]
  },
  {
   "cell_type": "code",
   "execution_count": 18,
   "metadata": {},
   "outputs": [
    {
     "name": "stdout",
     "output_type": "stream",
     "text": [
      "\u001b[1mnot fraud\u001b[0m\n",
      "precision: 0.986817838511935\n",
      "recall: 0.981208030248784\n",
      "f1-score: 0.9840049390716471\n",
      "support: 114517\n",
      "\n",
      "\n",
      "\u001b[1mis fraud\u001b[0m\n",
      "precision: 0.4926921263554927\n",
      "recall: 0.582010582010582\n",
      "f1-score: 0.5336397293501851\n",
      "support: 3591\n",
      "\n",
      "\n",
      "accuracy: 0.9690706810715616\n",
      "\n",
      "\n",
      "\u001b[1mmacro avg\u001b[0m\n",
      "precision: 0.7397549824337138\n",
      "recall: 0.7816093061296829\n",
      "f1-score: 0.7588223342109162\n",
      "support: 118108\n",
      "\n",
      "\n",
      "\u001b[1mweighted avg\u001b[0m\n",
      "precision: 0.9717942547381535\n",
      "recall: 0.9690706810715616\n",
      "f1-score: 0.970311866052802\n",
      "support: 118108\n",
      "\n",
      "\n",
      "\u001b[1mArea Under the Receiver Operating Characteristic Curve (ROC AUC)\u001b[0m\n",
      "micro: 0.7397549824337138\n",
      "macro: 0.7397549824337138\n",
      "samples: 0.7397549824337138\n",
      "weighted: 0.7397549824337138\n",
      "\n",
      "\n",
      "CPU times: user 651 ms, sys: 2.31 ms, total: 653 ms\n",
      "Wall time: 677 ms\n"
     ]
    },
    {
     "data": {
      "image/png": "[encoded data removed]",
      "text/plain": [
       "<Figure size 432x288 with 2 Axes>"
      ]
     },
     "metadata": {
      "needs_background": "light"
     },
     "output_type": "display_data"
    }
   ],
   "source": [
    "%%time\n",
    "\n",
    "custom_classification_report(clf, x_test, y_test)"
   ]
  }
 ],
 "metadata": {
  "kernelspec": {
   "display_name": "Python 3",
   "language": "python",
   "name": "python3"
  },
  "language_info": {
   "codemirror_mode": {
    "name": "ipython",
    "version": 3
   },
   "file_extension": ".py",
   "mimetype": "text/x-python",
   "name": "python",
   "nbconvert_exporter": "python",
   "pygments_lexer": "ipython3",
   "version": "3.7.6"
  }
 },
 "nbformat": 4,
 "nbformat_minor": 4
}
