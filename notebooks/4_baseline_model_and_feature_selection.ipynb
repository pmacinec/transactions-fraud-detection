{
 "cells": [
  {
   "cell_type": "markdown",
   "metadata": {},
   "source": [
    "# Transactions Fraud Detection\n",
    "\n",
    "**Authors:** [Peter Macinec](https://github.com/pmacinec), [Timotej Zatko](https://github.com/timzatko)"
   ]
  },
  {
   "cell_type": "markdown",
   "metadata": {},
   "source": [
    "## Baseline model\n",
    "\n",
    "At this jupyter notebook, baseline model will be trained on both, original data and balanced data. Also, *Recursive Feature Elimination with Cross-Validation (RFECV)* will be used for feature selection.\n",
    "\n",
    "Because decision tree turned out to be the best choice in model selection phase, decision tree algorithm will be used for all baseline model combinations.\n",
    "\n",
    "This setup will be then used to compare the results and performance of nature inspired algorithms used for feature selection."
   ]
  },
  {
   "cell_type": "markdown",
   "metadata": {},
   "source": [
    "### Setup and reading the data\n",
    "\n",
    "At first, we need to import libraries and set initial configs."
   ]
  },
  {
   "cell_type": "code",
   "execution_count": 1,
   "metadata": {},
   "outputs": [],
   "source": [
    "%load_ext autoreload\n",
    "%autoreload 2"
   ]
  },
  {
   "cell_type": "code",
   "execution_count": 2,
   "metadata": {},
   "outputs": [],
   "source": [
    "import sys\n",
    "sys.path.append('..')\n",
    "\n",
    "import pandas as pd\n",
    "import numpy as np\n",
    "\n",
    "import matplotlib.pyplot as plt\n",
    "\n",
    "from sklearn.tree import DecisionTreeClassifier\n",
    "from sklearn.feature_selection import RFECV\n",
    "\n",
    "from src.dataset import load_processed_data\n",
    "from src.data_balancing import random_undersample\n",
    "from src.evaluation import custom_classification_report"
   ]
  },
  {
   "cell_type": "code",
   "execution_count": 3,
   "metadata": {},
   "outputs": [
    {
     "name": "stdout",
     "output_type": "stream",
     "text": [
      "Number of records:\n",
      "  x_train - 472432\n",
      "  y_train - 472432\n",
      "  x_test - 118108\n",
      "  y_test - 118108\n"
     ]
    }
   ],
   "source": [
    "x_train, y_train, x_test, y_test = load_processed_data()"
   ]
  },
  {
   "cell_type": "markdown",
   "metadata": {},
   "source": [
    "Data will be balanced using random undersampling method:"
   ]
  },
  {
   "cell_type": "code",
   "execution_count": 4,
   "metadata": {},
   "outputs": [
    {
     "name": "stdout",
     "output_type": "stream",
     "text": [
      "CPU times: user 782 ms, sys: 478 ms, total: 1.26 s\n",
      "Wall time: 1.31 s\n"
     ]
    },
    {
     "data": {
      "text/plain": [
       "(32842, 32842)"
      ]
     },
     "execution_count": 4,
     "metadata": {},
     "output_type": "execute_result"
    }
   ],
   "source": [
    "%%time\n",
    "x_train_undersampled, y_train_undersampled = random_undersample(x_train, y_train)\n",
    "len(x_train_undersampled), len(y_train_undersampled)"
   ]
  },
  {
   "cell_type": "markdown",
   "metadata": {},
   "source": [
    "### Baseline model - original data\n",
    "\n",
    "As first baseline model, decision tree will be trained on original data without balancing (only `class_weight` parameter is set to `balanced`):"
   ]
  },
  {
   "cell_type": "markdown",
   "metadata": {},
   "source": [
    "#### All features"
   ]
  },
  {
   "cell_type": "code",
   "execution_count": 5,
   "metadata": {},
   "outputs": [
    {
     "name": "stdout",
     "output_type": "stream",
     "text": [
      "CPU times: user 1min 5s, sys: 537 ms, total: 1min 6s\n",
      "Wall time: 1min 18s\n"
     ]
    }
   ],
   "source": [
    "%%time\n",
    "\n",
    "clf = DecisionTreeClassifier(random_state=42, class_weight='balanced')\n",
    "clf = clf.fit(x_train, y_train)"
   ]
  },
  {
   "cell_type": "code",
   "execution_count": 6,
   "metadata": {},
   "outputs": [
    {
     "name": "stdout",
     "output_type": "stream",
     "text": [
      "\u001b[1mnot fraud\u001b[0m\n",
      "precision: 0.984683751075826\n",
      "recall: 0.9837765747426978\n",
      "f1-score: 0.9842299538705302\n",
      "support: 113971\n",
      "\n",
      "\n",
      "\u001b[1mis fraud\u001b[0m\n",
      "precision: 0.5641206977840642\n",
      "recall: 0.5784384819917815\n",
      "f1-score: 0.5711898794605561\n",
      "support: 4137\n",
      "\n",
      "\n",
      "accuracy: 0.969578690689877\n",
      "\n",
      "\n",
      "\u001b[1mmacro avg\u001b[0m\n",
      "precision: 0.7744022244299451\n",
      "recall: 0.7811075283672396\n",
      "f1-score: 0.7777099166655432\n",
      "support: 118108\n",
      "\n",
      "\n",
      "\u001b[1mweighted avg\u001b[0m\n",
      "precision: 0.9699525783231926\n",
      "recall: 0.969578690689877\n",
      "f1-score: 0.9697622904791083\n",
      "support: 118108\n",
      "\n",
      "\n",
      "\u001b[1mArea Under the Receiver Operating Characteristic Curve (ROC AUC)\u001b[0m\n",
      "Score: 0.7744022244299451\n",
      "\n",
      "\n"
     ]
    },
    {
     "data": {
      "image/png": "[encoded data removed]",
      "text/plain": [
       "<Figure size 432x288 with 2 Axes>"
      ]
     },
     "metadata": {
      "needs_background": "light"
     },
     "output_type": "display_data"
    }
   ],
   "source": [
    "custom_classification_report(clf, x_test, y_test)"
   ]
  },
  {
   "cell_type": "markdown",
   "metadata": {},
   "source": [
    "### Baseline model - balanced data\n",
    "\n",
    "Next baseline models, decision tree will be trained on balanced data (using random undersampling):"
   ]
  },
  {
   "cell_type": "markdown",
   "metadata": {},
   "source": [
    "#### All features"
   ]
  },
  {
   "cell_type": "code",
   "execution_count": 7,
   "metadata": {},
   "outputs": [
    {
     "name": "stdout",
     "output_type": "stream",
     "text": [
      "CPU times: user 2.32 s, sys: 0 ns, total: 2.32 s\n",
      "Wall time: 2.74 s\n"
     ]
    }
   ],
   "source": [
    "%%time\n",
    "clf = DecisionTreeClassifier(random_state=42)\n",
    "clf = clf.fit(x_train_undersampled, y_train_undersampled)"
   ]
  },
  {
   "cell_type": "code",
   "execution_count": 8,
   "metadata": {},
   "outputs": [
    {
     "name": "stdout",
     "output_type": "stream",
     "text": [
      "\u001b[1mnot fraud\u001b[0m\n",
      "precision: 0.7738482075421987\n",
      "recall: 0.9907129445362656\n",
      "f1-score: 0.8689542274181858\n",
      "support: 88941\n",
      "\n",
      "\n",
      "\u001b[1mis fraud\u001b[0m\n",
      "precision: 0.8052805280528053\n",
      "recall: 0.11711866150101141\n",
      "f1-score: 0.20449579454637973\n",
      "support: 29167\n",
      "\n",
      "\n",
      "accuracy: 0.7749771395671758\n",
      "\n",
      "\n",
      "\u001b[1mmacro avg\u001b[0m\n",
      "precision: 0.7895643677975019\n",
      "recall: 0.5539158030186385\n",
      "f1-score: 0.5367250109822828\n",
      "support: 118108\n",
      "\n",
      "\n",
      "\u001b[1mweighted avg\u001b[0m\n",
      "precision: 0.7816104801429783\n",
      "recall: 0.7749771395671758\n",
      "f1-score: 0.7048649268494523\n",
      "support: 118108\n",
      "\n",
      "\n",
      "\u001b[1mArea Under the Receiver Operating Characteristic Curve (ROC AUC)\u001b[0m\n",
      "Score: 0.789564367797502\n",
      "\n",
      "\n",
      "CPU times: user 629 ms, sys: 68.1 ms, total: 697 ms\n",
      "Wall time: 1.05 s\n"
     ]
    },
    {
     "data": {
      "image/png": "[encoded data removed]",
      "text/plain": [
       "<Figure size 432x288 with 2 Axes>"
      ]
     },
     "metadata": {
      "needs_background": "light"
     },
     "output_type": "display_data"
    }
   ],
   "source": [
    "%%time\n",
    "custom_classification_report(clf, x_test, y_test)"
   ]
  },
  {
   "cell_type": "markdown",
   "metadata": {},
   "source": [
    "#### Feature selection (RFECV)"
   ]
  },
  {
   "cell_type": "code",
   "execution_count": null,
   "metadata": {},
   "outputs": [],
   "source": [
    "%%time\n",
    "rfecv = RFECV(estimator=clf, scoring='roc_auc', n_jobs=-1)\n",
    "rfecv.fit(x_train_undersampled, y_train_undersampled)\n",
    "\n",
    "print(f'Optimal number of features: {rfecv.n_features_}')\n",
    "\n",
    "plt.figure()\n",
    "plt.xlabel('Number of features selected')\n",
    "plt.ylabel('CV score (roc auc)')\n",
    "plt.plot(range(1, len(rfecv.grid_scores_) + 1), rfecv.grid_scores_)\n",
    "plt.show()"
   ]
  },
  {
   "cell_type": "code",
   "execution_count": null,
   "metadata": {},
   "outputs": [],
   "source": [
    "%%time\n",
    "custom_classification_report(rfecv.estimator_, x_test, y_test)"
   ]
  },
  {
   "cell_type": "markdown",
   "metadata": {},
   "source": [
    "### Conclusion\n",
    "\n",
    "In this jupyter notebook, baseline models have been trained. Those baselines will be used for comparison with models trained only on features received from feature selection using nature inspired algorithms."
   ]
  }
 ],
 "metadata": {
  "kernelspec": {
   "display_name": "Python 3",
   "language": "python",
   "name": "python3"
  },
  "language_info": {
   "codemirror_mode": {
    "name": "ipython",
    "version": 3
   },
   "file_extension": ".py",
   "mimetype": "text/x-python",
   "name": "python",
   "nbconvert_exporter": "python",
   "pygments_lexer": "ipython3",
   "version": "3.7.6"
  }
 },
 "nbformat": 4,
 "nbformat_minor": 4
}
