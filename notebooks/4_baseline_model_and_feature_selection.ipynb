{
 "cells": [
  {
   "cell_type": "markdown",
   "metadata": {},
   "source": [
    "# Transactions Fraud Detection\n",
    "\n",
    "**Authors:** [Peter Macinec](https://github.com/pmacinec), [Timotej Zatko](https://github.com/timzatko)"
   ]
  },
  {
   "cell_type": "markdown",
   "metadata": {},
   "source": [
    "## Baseline model and feature selection"
   ]
  },
  {
   "cell_type": "code",
   "execution_count": 1,
   "metadata": {},
   "outputs": [],
   "source": [
    "%load_ext autoreload\n",
    "%autoreload 2"
   ]
  },
  {
   "cell_type": "code",
   "execution_count": 2,
   "metadata": {},
   "outputs": [],
   "source": [
    "import sys\n",
    "sys.path.append('..')\n",
    "\n",
    "import pandas as pd\n",
    "import numpy as np\n",
    "\n",
    "from sklearn.tree import DecisionTreeClassifier\n",
    "\n",
    "from src.dataset import load_processed_data\n",
    "from src.data_balancing import random_undersample\n",
    "from src.evaluation import custom_classification_report"
   ]
  },
  {
   "cell_type": "markdown",
   "metadata": {},
   "source": [
    "### Load data"
   ]
  },
  {
   "cell_type": "code",
   "execution_count": 3,
   "metadata": {},
   "outputs": [
    {
     "name": "stdout",
     "output_type": "stream",
     "text": [
      "Number of records:\n",
      "  x_train - 472432\n",
      "  y_train - 472432\n",
      "  x_test - 118108\n",
      "  y_test - 118108\n"
     ]
    }
   ],
   "source": [
    "x_train, y_train, x_test, y_test = load_processed_data()"
   ]
  },
  {
   "cell_type": "code",
   "execution_count": 4,
   "metadata": {},
   "outputs": [
    {
     "name": "stdout",
     "output_type": "stream",
     "text": [
      "CPU times: user 1.15 s, sys: 168 ms, total: 1.32 s\n",
      "Wall time: 1.32 s\n"
     ]
    },
    {
     "data": {
      "text/plain": [
       "(32842, 32842)"
      ]
     },
     "execution_count": 4,
     "metadata": {},
     "output_type": "execute_result"
    }
   ],
   "source": [
    "%%time\n",
    "x_train_undersampled, y_train_undersampled = random_undersample(x_train, y_train)\n",
    "len(x_train_undersampled), len(y_train_undersampled)"
   ]
  },
  {
   "cell_type": "markdown",
   "metadata": {},
   "source": [
    "### Baseline model"
   ]
  },
  {
   "cell_type": "markdown",
   "metadata": {},
   "source": [
    "#### Original data"
   ]
  },
  {
   "cell_type": "code",
   "execution_count": 5,
   "metadata": {},
   "outputs": [
    {
     "name": "stdout",
     "output_type": "stream",
     "text": [
      "CPU times: user 3min 18s, sys: 306 ms, total: 3min 18s\n",
      "Wall time: 3min 18s\n"
     ]
    }
   ],
   "source": [
    "%%time\n",
    "\n",
    "clf = DecisionTreeClassifier(random_state=42)\n",
    "clf = clf.fit(x_train, y_train)"
   ]
  },
  {
   "cell_type": "code",
   "execution_count": 6,
   "metadata": {},
   "outputs": [
    {
     "name": "stdout",
     "output_type": "stream",
     "text": [
      "\u001b[1mnot fraud\u001b[0m\n",
      "precision: 0.9813640595085451\n",
      "recall: 0.9838871572719108\n",
      "f1-score: 0.9826239887442841\n",
      "support: 113574\n",
      "\n",
      "\n",
      "\u001b[1mis fraud\u001b[0m\n",
      "precision: 0.5685997171145686\n",
      "recall: 0.5319805910895457\n",
      "f1-score: 0.5496809480401095\n",
      "support: 4534\n",
      "\n",
      "\n",
      "accuracy: 0.9665390998069563\n",
      "\n",
      "\n",
      "\u001b[1mmacro avg\u001b[0m\n",
      "precision: 0.7749818883115569\n",
      "recall: 0.7579338741807282\n",
      "f1-score: 0.7661524683921968\n",
      "support: 118108\n",
      "\n",
      "\n",
      "\u001b[1mweighted avg\u001b[0m\n",
      "precision: 0.9655186169609251\n",
      "recall: 0.9665390998069563\n",
      "f1-score: 0.9660039143500624\n",
      "support: 118108\n",
      "\n",
      "\n",
      "\u001b[1mArea Under the Receiver Operating Characteristic Curve (ROC AUC)\u001b[0m\n",
      "micro: 0.7749818883115568\n",
      "macro: 0.7749818883115568\n",
      "samples: 0.7749818883115568\n",
      "weighted: 0.7749818883115568\n",
      "\n",
      "\n"
     ]
    },
    {
     "data": {
      "image/png": "[encoded data removed]",
      "text/plain": [
       "<Figure size 432x288 with 2 Axes>"
      ]
     },
     "metadata": {
      "needs_background": "light"
     },
     "output_type": "display_data"
    }
   ],
   "source": [
    "custom_classification_report(clf, x_test, y_test)"
   ]
  },
  {
   "cell_type": "markdown",
   "metadata": {},
   "source": [
    "#### Balanced data - undersampling"
   ]
  },
  {
   "cell_type": "code",
   "execution_count": 7,
   "metadata": {},
   "outputs": [
    {
     "name": "stdout",
     "output_type": "stream",
     "text": [
      "CPU times: user 2.98 s, sys: 18 µs, total: 2.98 s\n",
      "Wall time: 2.98 s\n"
     ]
    }
   ],
   "source": [
    "%%time\n",
    "clf = DecisionTreeClassifier(random_state=42)\n",
    "clf = clf.fit(x_train_undersampled, y_train_undersampled)"
   ]
  },
  {
   "cell_type": "code",
   "execution_count": 8,
   "metadata": {},
   "outputs": [
    {
     "name": "stdout",
     "output_type": "stream",
     "text": [
      "\u001b[1mnot fraud\u001b[0m\n",
      "precision: 0.7738921188063161\n",
      "recall: 0.990713466597711\n",
      "f1-score: 0.8689821115121393\n",
      "support: 88946\n",
      "\n",
      "\n",
      "\u001b[1mis fraud\u001b[0m\n",
      "precision: 0.8052805280528053\n",
      "recall: 0.1171387421987518\n",
      "f1-score: 0.20452640402347025\n",
      "support: 29162\n",
      "\n",
      "\n",
      "accuracy: 0.7750194737020354\n",
      "\n",
      "\n",
      "\u001b[1mmacro avg\u001b[0m\n",
      "precision: 0.7895863234295607\n",
      "recall: 0.5539261043982314\n",
      "f1-score: 0.5367542577678048\n",
      "support: 118108\n",
      "\n",
      "\n",
      "\u001b[1mweighted avg\u001b[0m\n",
      "precision: 0.7816422186339833\n",
      "recall: 0.7750194737020354\n",
      "f1-score: 0.7049216131395942\n",
      "support: 118108\n",
      "\n",
      "\n",
      "\u001b[1mArea Under the Receiver Operating Characteristic Curve (ROC AUC)\u001b[0m\n",
      "micro: 0.7895863234295607\n",
      "macro: 0.7895863234295607\n",
      "samples: 0.7895863234295607\n",
      "weighted: 0.7895863234295607\n",
      "\n",
      "\n"
     ]
    },
    {
     "data": {
      "image/png": "[encoded data removed]",
      "text/plain": [
       "<Figure size 432x288 with 2 Axes>"
      ]
     },
     "metadata": {
      "needs_background": "light"
     },
     "output_type": "display_data"
    }
   ],
   "source": [
    "custom_classification_report(clf, x_test, y_test)"
   ]
  },
  {
   "cell_type": "code",
   "execution_count": null,
   "metadata": {},
   "outputs": [],
   "source": []
  }
 ],
 "metadata": {
  "kernelspec": {
   "display_name": "Python 3",
   "language": "python",
   "name": "python3"
  },
  "language_info": {
   "codemirror_mode": {
    "name": "ipython",
    "version": 3
   },
   "file_extension": ".py",
   "mimetype": "text/x-python",
   "name": "python",
   "nbconvert_exporter": "python",
   "pygments_lexer": "ipython3",
   "version": "3.7.6"
  }
 },
 "nbformat": 4,
 "nbformat_minor": 4
}
