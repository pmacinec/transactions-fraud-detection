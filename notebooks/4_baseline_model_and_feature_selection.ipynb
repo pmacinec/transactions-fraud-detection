{
 "cells": [
  {
   "cell_type": "markdown",
   "metadata": {},
   "source": [
    "# Transactions Fraud Detection\n",
    "\n",
    "**Authors:** [Peter Macinec](https://github.com/pmacinec), [Timotej Zatko](https://github.com/timzatko)"
   ]
  },
  {
   "cell_type": "markdown",
   "metadata": {},
   "source": [
    "## Baseline model and feature selection"
   ]
  },
  {
   "cell_type": "code",
   "execution_count": 1,
   "metadata": {},
   "outputs": [],
   "source": [
    "%load_ext autoreload\n",
    "%autoreload 2"
   ]
  },
  {
   "cell_type": "code",
   "execution_count": 2,
   "metadata": {},
   "outputs": [],
   "source": [
    "import sys\n",
    "sys.path.append('..')\n",
    "\n",
    "import pandas as pd\n",
    "import numpy as np\n",
    "\n",
    "from sklearn.tree import DecisionTreeClassifier\n",
    "\n",
    "from src.dataset import load_processed_data\n",
    "from src.evaluation import custom_classification_report"
   ]
  },
  {
   "cell_type": "markdown",
   "metadata": {},
   "source": [
    "### All features"
   ]
  },
  {
   "cell_type": "code",
   "execution_count": 4,
   "metadata": {},
   "outputs": [
    {
     "name": "stdout",
     "output_type": "stream",
     "text": [
      "Number of records:\n",
      "  x_train - 472432\n",
      "  y_train - 472432\n",
      "  x_test - 118108\n",
      "  y_test - 118108\n"
     ]
    }
   ],
   "source": [
    "x_train, y_train, x_test, y_test = load_processed_data()"
   ]
  },
  {
   "cell_type": "code",
   "execution_count": 5,
   "metadata": {},
   "outputs": [
    {
     "name": "stdout",
     "output_type": "stream",
     "text": [
      "CPU times: user 1min 23s, sys: 3.69 s, total: 1min 27s\n",
      "Wall time: 1min 27s\n"
     ]
    }
   ],
   "source": [
    "%%time\n",
    "\n",
    "clf = DecisionTreeClassifier(random_state=42)\n",
    "clf = clf.fit(x_train, y_train)"
   ]
  },
  {
   "cell_type": "code",
   "execution_count": 6,
   "metadata": {},
   "outputs": [
    {
     "name": "stdout",
     "output_type": "stream",
     "text": [
      "\u001b[1mnot fraud\u001b[0m\n",
      "precision: 0.9813025837387807\n",
      "recall: 0.9838515113893511\n",
      "f1-score: 0.9825753945048519\n",
      "support: 113571\n",
      "\n",
      "\n",
      "\u001b[1mis fraud\u001b[0m\n",
      "precision: 0.5676567656765676\n",
      "recall: 0.5307471897729777\n",
      "f1-score: 0.5485818430345141\n",
      "support: 4537\n",
      "\n",
      "\n",
      "accuracy: 0.9664459647102652\n",
      "\n",
      "\n",
      "\u001b[1mmacro avg\u001b[0m\n",
      "precision: 0.7744796747076741\n",
      "recall: 0.7572993505811645\n",
      "f1-score: 0.7655786187696829\n",
      "support: 118108\n",
      "\n",
      "\n",
      "\u001b[1mweighted avg\u001b[0m\n",
      "precision: 0.9654127957773533\n",
      "recall: 0.9664459647102652\n",
      "f1-score: 0.9659039688349488\n",
      "support: 118108\n",
      "\n",
      "\n",
      "\u001b[1mArea Under the Receiver Operating Characteristic Curve (ROC AUC)\u001b[0m\n",
      "micro: 0.7744796747076742\n",
      "macro: 0.7744796747076742\n",
      "samples: 0.7744796747076742\n",
      "weighted: 0.7744796747076742\n",
      "\n",
      "\n",
      "CPU times: user 891 ms, sys: 90.1 ms, total: 981 ms\n",
      "Wall time: 997 ms\n"
     ]
    },
    {
     "data": {
      "image/png": "[encoded data removed]",
      "text/plain": [
       "<Figure size 432x288 with 2 Axes>"
      ]
     },
     "metadata": {
      "needs_background": "light"
     },
     "output_type": "display_data"
    }
   ],
   "source": [
    "%%time\n",
    "\n",
    "custom_classification_report(clf, x_test, y_test)"
   ]
  }
 ],
 "metadata": {
  "kernelspec": {
   "display_name": "Python 3",
   "language": "python",
   "name": "python3"
  },
  "language_info": {
   "codemirror_mode": {
    "name": "ipython",
    "version": 3
   },
   "file_extension": ".py",
   "mimetype": "text/x-python",
   "name": "python",
   "nbconvert_exporter": "python",
   "pygments_lexer": "ipython3",
   "version": "3.7.6"
  }
 },
 "nbformat": 4,
 "nbformat_minor": 4
}
